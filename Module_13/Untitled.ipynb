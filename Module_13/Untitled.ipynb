{
 "cells": [
  {
   "cell_type": "code",
   "execution_count": 1,
   "metadata": {},
   "outputs": [],
   "source": [
    "import pandas as pd\n",
    "import seaborn as sns\n",
    "import matplotlib.pyplot as plt\n",
    "import ipaddress\n",
    "import numpy as np\n",
    "from scipy import stats\n",
    "from scipy.stats import chi2_contingency\n",
    "from datetime import datetime, timedelta\n",
    "import math\n",
    "import missingno as msno\n",
    "plt.style.use('ggplot')\n",
    "\n",
    "import pandas as pd\n",
    "import matplotlib.pyplot as plt\n",
    "import numpy as np\n",
    "from sklearn.ensemble import RandomForestClassifier\n",
    "from sklearn.metrics import confusion_matrix,accuracy_score\n",
    "from sklearn.model_selection import train_test_split\n",
    "%matplotlib inline\n",
    "# sns.set(rc={'figure.figsize':(14,7)}) # For making the seaborn plots the same size"
   ]
  },
  {
   "cell_type": "code",
   "execution_count": 2,
   "metadata": {},
   "outputs": [],
   "source": [
    "df = pd.read_csv('Cybersecurity_attacks.csv')"
   ]
  },
  {
   "cell_type": "code",
   "execution_count": 3,
   "metadata": {},
   "outputs": [
    {
     "data": {
      "text/plain": [
       "Exploits            69588\n",
       " Fuzzers            30145\n",
       "DoS                 25117\n",
       "Generic             20296\n",
       " Reconnaissance     18787\n",
       " Fuzzers             4216\n",
       "Backdoor             4192\n",
       "Analysis             1933\n",
       "Reconnaissance       1783\n",
       " Shellcode           1314\n",
       "Backdoors             259\n",
       "Shellcode             227\n",
       "Worms                 173\n",
       "Reconnaissance          1\n",
       "Name: Attack category, dtype: int64"
      ]
     },
     "execution_count": 3,
     "metadata": {},
     "output_type": "execute_result"
    }
   ],
   "source": [
    "df['Attack category'].value_counts()"
   ]
  },
  {
   "cell_type": "code",
   "execution_count": 4,
   "metadata": {},
   "outputs": [],
   "source": [
    "df1 = df[(df['Attack category'] == 'Exploits') | (df['Attack category'] == 'Generic')]"
   ]
  },
  {
   "cell_type": "code",
   "execution_count": 5,
   "metadata": {},
   "outputs": [
    {
     "data": {
      "text/html": [
       "<div>\n",
       "<style scoped>\n",
       "    .dataframe tbody tr th:only-of-type {\n",
       "        vertical-align: middle;\n",
       "    }\n",
       "\n",
       "    .dataframe tbody tr th {\n",
       "        vertical-align: top;\n",
       "    }\n",
       "\n",
       "    .dataframe thead th {\n",
       "        text-align: right;\n",
       "    }\n",
       "</style>\n",
       "<table border=\"1\" class=\"dataframe\">\n",
       "  <thead>\n",
       "    <tr style=\"text-align: right;\">\n",
       "      <th></th>\n",
       "      <th>Attack category</th>\n",
       "      <th>Attack subcategory</th>\n",
       "      <th>Protocol</th>\n",
       "      <th>Source IP</th>\n",
       "      <th>Source Port</th>\n",
       "      <th>Destination IP</th>\n",
       "      <th>Destination Port</th>\n",
       "      <th>Attack Name</th>\n",
       "      <th>Attack Reference</th>\n",
       "      <th>.</th>\n",
       "      <th>Time</th>\n",
       "    </tr>\n",
       "  </thead>\n",
       "  <tbody>\n",
       "    <tr>\n",
       "      <th>1</th>\n",
       "      <td>Exploits</td>\n",
       "      <td>Unix 'r' Service</td>\n",
       "      <td>udp</td>\n",
       "      <td>175.45.176.3</td>\n",
       "      <td>21223</td>\n",
       "      <td>149.171.126.18</td>\n",
       "      <td>32780</td>\n",
       "      <td>Solaris rwalld Format String Vulnerability (ht...</td>\n",
       "      <td>CVE 2002-0573 (http://cve.mitre.org/cgi-bin/cv...</td>\n",
       "      <td>.</td>\n",
       "      <td>1421927415-1421927415</td>\n",
       "    </tr>\n",
       "    <tr>\n",
       "      <th>2</th>\n",
       "      <td>Exploits</td>\n",
       "      <td>Browser</td>\n",
       "      <td>tcp</td>\n",
       "      <td>175.45.176.2</td>\n",
       "      <td>23357</td>\n",
       "      <td>149.171.126.16</td>\n",
       "      <td>80</td>\n",
       "      <td>Windows Metafile (WMF) SetAbortProc() Code Exe...</td>\n",
       "      <td>CVE 2005-4560 (http://cve.mitre.org/cgi-bin/cv...</td>\n",
       "      <td>.</td>\n",
       "      <td>1421927416-1421927416</td>\n",
       "    </tr>\n",
       "    <tr>\n",
       "      <th>3</th>\n",
       "      <td>Exploits</td>\n",
       "      <td>Miscellaneous Batch</td>\n",
       "      <td>tcp</td>\n",
       "      <td>175.45.176.2</td>\n",
       "      <td>13792</td>\n",
       "      <td>149.171.126.16</td>\n",
       "      <td>5555</td>\n",
       "      <td>HP Data Protector Backup (https://strikecenter...</td>\n",
       "      <td>CVE 2011-1729 (http://cve.mitre.org/cgi-bin/cv...</td>\n",
       "      <td>.</td>\n",
       "      <td>1421927417-1421927417</td>\n",
       "    </tr>\n",
       "    <tr>\n",
       "      <th>4</th>\n",
       "      <td>Exploits</td>\n",
       "      <td>Cisco IOS</td>\n",
       "      <td>tcp</td>\n",
       "      <td>175.45.176.2</td>\n",
       "      <td>26939</td>\n",
       "      <td>149.171.126.10</td>\n",
       "      <td>80</td>\n",
       "      <td>Cisco IOS HTTP Authentication Bypass Level 64 ...</td>\n",
       "      <td>CVE 2001-0537 (http://cve.mitre.org/cgi-bin/cv...</td>\n",
       "      <td>.</td>\n",
       "      <td>1421927418-1421927418</td>\n",
       "    </tr>\n",
       "    <tr>\n",
       "      <th>7</th>\n",
       "      <td>Generic</td>\n",
       "      <td>IXIA</td>\n",
       "      <td>tcp</td>\n",
       "      <td>175.45.176.0</td>\n",
       "      <td>29309</td>\n",
       "      <td>149.171.126.14</td>\n",
       "      <td>3000</td>\n",
       "      <td>Alt-N_MDaemon_WorldClient_Service_Memory_Corru...</td>\n",
       "      <td>CVE 2008-2631 (http://cve.mitre.org/cgi-bin/cv...</td>\n",
       "      <td>.</td>\n",
       "      <td>1421927420-1421927420</td>\n",
       "    </tr>\n",
       "  </tbody>\n",
       "</table>\n",
       "</div>"
      ],
      "text/plain": [
       "  Attack category   Attack subcategory Protocol     Source IP  Source Port  \\\n",
       "1        Exploits     Unix 'r' Service      udp  175.45.176.3        21223   \n",
       "2        Exploits              Browser      tcp  175.45.176.2        23357   \n",
       "3        Exploits  Miscellaneous Batch      tcp  175.45.176.2        13792   \n",
       "4        Exploits           Cisco IOS       tcp  175.45.176.2        26939   \n",
       "7         Generic                 IXIA      tcp  175.45.176.0        29309   \n",
       "\n",
       "   Destination IP  Destination Port  \\\n",
       "1  149.171.126.18             32780   \n",
       "2  149.171.126.16                80   \n",
       "3  149.171.126.16              5555   \n",
       "4  149.171.126.10                80   \n",
       "7  149.171.126.14              3000   \n",
       "\n",
       "                                         Attack Name  \\\n",
       "1  Solaris rwalld Format String Vulnerability (ht...   \n",
       "2  Windows Metafile (WMF) SetAbortProc() Code Exe...   \n",
       "3  HP Data Protector Backup (https://strikecenter...   \n",
       "4  Cisco IOS HTTP Authentication Bypass Level 64 ...   \n",
       "7  Alt-N_MDaemon_WorldClient_Service_Memory_Corru...   \n",
       "\n",
       "                                    Attack Reference  .                   Time  \n",
       "1  CVE 2002-0573 (http://cve.mitre.org/cgi-bin/cv...  .  1421927415-1421927415  \n",
       "2  CVE 2005-4560 (http://cve.mitre.org/cgi-bin/cv...  .  1421927416-1421927416  \n",
       "3  CVE 2011-1729 (http://cve.mitre.org/cgi-bin/cv...  .  1421927417-1421927417  \n",
       "4  CVE 2001-0537 (http://cve.mitre.org/cgi-bin/cv...  .  1421927418-1421927418  \n",
       "7  CVE 2008-2631 (http://cve.mitre.org/cgi-bin/cv...  .  1421927420-1421927420  "
      ]
     },
     "execution_count": 5,
     "metadata": {},
     "output_type": "execute_result"
    }
   ],
   "source": [
    "df1.head()"
   ]
  },
  {
   "cell_type": "code",
   "execution_count": 6,
   "metadata": {},
   "outputs": [
    {
     "name": "stdout",
     "output_type": "stream",
     "text": [
      "<class 'pandas.core.frame.DataFrame'>\n",
      "Int64Index: 89884 entries, 1 to 178029\n",
      "Data columns (total 11 columns):\n",
      " #   Column              Non-Null Count  Dtype \n",
      "---  ------              --------------  ----- \n",
      " 0   Attack category     89884 non-null  object\n",
      " 1   Attack subcategory  89884 non-null  object\n",
      " 2   Protocol            89884 non-null  object\n",
      " 3   Source IP           89884 non-null  object\n",
      " 4   Source Port         89884 non-null  int64 \n",
      " 5   Destination IP      89884 non-null  object\n",
      " 6   Destination Port    89884 non-null  int64 \n",
      " 7   Attack Name         89884 non-null  object\n",
      " 8   Attack Reference    89528 non-null  object\n",
      " 9   .                   89884 non-null  object\n",
      " 10  Time                89884 non-null  object\n",
      "dtypes: int64(2), object(9)\n",
      "memory usage: 8.2+ MB\n"
     ]
    }
   ],
   "source": [
    "df1.info()"
   ]
  },
  {
   "cell_type": "code",
   "execution_count": 7,
   "metadata": {},
   "outputs": [],
   "source": [
    "df1 = df1.drop(columns=['Time', '.'])"
   ]
  },
  {
   "cell_type": "code",
   "execution_count": 8,
   "metadata": {},
   "outputs": [],
   "source": [
    "def rem_junk(item):\n",
    "    return item.strip(\" \")"
   ]
  },
  {
   "cell_type": "code",
   "execution_count": 9,
   "metadata": {},
   "outputs": [],
   "source": [
    "df1['Attack subcategory'] = df1['Attack subcategory'].apply(rem_junk)"
   ]
  },
  {
   "cell_type": "code",
   "execution_count": 10,
   "metadata": {},
   "outputs": [
    {
     "data": {
      "text/plain": [
       " 0        43542\n",
       " 53       13917\n",
       " 80       13563\n",
       " 25        4936\n",
       " 21        2262\n",
       "          ...  \n",
       " 45626        1\n",
       " 50819        1\n",
       " 27029        1\n",
       " 12000        1\n",
       "-146          1\n",
       "Name: Destination Port, Length: 1715, dtype: int64"
      ]
     },
     "execution_count": 10,
     "metadata": {},
     "output_type": "execute_result"
    }
   ],
   "source": [
    "df1['Destination Port'].value_counts()"
   ]
  },
  {
   "cell_type": "code",
   "execution_count": 11,
   "metadata": {},
   "outputs": [],
   "source": [
    "df2 = pd.get_dummies(df1, columns=[\n",
    "    'Attack subcategory', 'Protocol', 'Source IP', 'Source Port',\n",
    "    'Destination IP', 'Destination Port'])"
   ]
  },
  {
   "cell_type": "code",
   "execution_count": 12,
   "metadata": {},
   "outputs": [],
   "source": [
    "df2 = df2.drop(columns=['Attack Name', 'Attack Reference'])"
   ]
  },
  {
   "cell_type": "code",
   "execution_count": 13,
   "metadata": {},
   "outputs": [
    {
     "data": {
      "text/html": [
       "<div>\n",
       "<style scoped>\n",
       "    .dataframe tbody tr th:only-of-type {\n",
       "        vertical-align: middle;\n",
       "    }\n",
       "\n",
       "    .dataframe tbody tr th {\n",
       "        vertical-align: top;\n",
       "    }\n",
       "\n",
       "    .dataframe thead th {\n",
       "        text-align: right;\n",
       "    }\n",
       "</style>\n",
       "<table border=\"1\" class=\"dataframe\">\n",
       "  <thead>\n",
       "    <tr style=\"text-align: right;\">\n",
       "      <th></th>\n",
       "      <th>Attack category</th>\n",
       "      <th>Attack subcategory_All</th>\n",
       "      <th>Attack subcategory_Apache</th>\n",
       "      <th>Attack subcategory_Backup Appliance</th>\n",
       "      <th>Attack subcategory_Browser</th>\n",
       "      <th>Attack subcategory_Browser FTP</th>\n",
       "      <th>Attack subcategory_Cisco IOS</th>\n",
       "      <th>Attack subcategory_Clientside</th>\n",
       "      <th>Attack subcategory_Clientside Microsoft</th>\n",
       "      <th>Attack subcategory_Clientside Microsoft Media Player</th>\n",
       "      <th>...</th>\n",
       "      <th>Destination Port_65455</th>\n",
       "      <th>Destination Port_65460</th>\n",
       "      <th>Destination Port_65470</th>\n",
       "      <th>Destination Port_65479</th>\n",
       "      <th>Destination Port_65486</th>\n",
       "      <th>Destination Port_65497</th>\n",
       "      <th>Destination Port_65502</th>\n",
       "      <th>Destination Port_65511</th>\n",
       "      <th>Destination Port_65517</th>\n",
       "      <th>Destination Port_65535</th>\n",
       "    </tr>\n",
       "  </thead>\n",
       "  <tbody>\n",
       "    <tr>\n",
       "      <th>1</th>\n",
       "      <td>Exploits</td>\n",
       "      <td>0</td>\n",
       "      <td>0</td>\n",
       "      <td>0</td>\n",
       "      <td>0</td>\n",
       "      <td>0</td>\n",
       "      <td>0</td>\n",
       "      <td>0</td>\n",
       "      <td>0</td>\n",
       "      <td>0</td>\n",
       "      <td>...</td>\n",
       "      <td>0</td>\n",
       "      <td>0</td>\n",
       "      <td>0</td>\n",
       "      <td>0</td>\n",
       "      <td>0</td>\n",
       "      <td>0</td>\n",
       "      <td>0</td>\n",
       "      <td>0</td>\n",
       "      <td>0</td>\n",
       "      <td>0</td>\n",
       "    </tr>\n",
       "    <tr>\n",
       "      <th>2</th>\n",
       "      <td>Exploits</td>\n",
       "      <td>0</td>\n",
       "      <td>0</td>\n",
       "      <td>0</td>\n",
       "      <td>1</td>\n",
       "      <td>0</td>\n",
       "      <td>0</td>\n",
       "      <td>0</td>\n",
       "      <td>0</td>\n",
       "      <td>0</td>\n",
       "      <td>...</td>\n",
       "      <td>0</td>\n",
       "      <td>0</td>\n",
       "      <td>0</td>\n",
       "      <td>0</td>\n",
       "      <td>0</td>\n",
       "      <td>0</td>\n",
       "      <td>0</td>\n",
       "      <td>0</td>\n",
       "      <td>0</td>\n",
       "      <td>0</td>\n",
       "    </tr>\n",
       "    <tr>\n",
       "      <th>3</th>\n",
       "      <td>Exploits</td>\n",
       "      <td>0</td>\n",
       "      <td>0</td>\n",
       "      <td>0</td>\n",
       "      <td>0</td>\n",
       "      <td>0</td>\n",
       "      <td>0</td>\n",
       "      <td>0</td>\n",
       "      <td>0</td>\n",
       "      <td>0</td>\n",
       "      <td>...</td>\n",
       "      <td>0</td>\n",
       "      <td>0</td>\n",
       "      <td>0</td>\n",
       "      <td>0</td>\n",
       "      <td>0</td>\n",
       "      <td>0</td>\n",
       "      <td>0</td>\n",
       "      <td>0</td>\n",
       "      <td>0</td>\n",
       "      <td>0</td>\n",
       "    </tr>\n",
       "    <tr>\n",
       "      <th>4</th>\n",
       "      <td>Exploits</td>\n",
       "      <td>0</td>\n",
       "      <td>0</td>\n",
       "      <td>0</td>\n",
       "      <td>0</td>\n",
       "      <td>0</td>\n",
       "      <td>1</td>\n",
       "      <td>0</td>\n",
       "      <td>0</td>\n",
       "      <td>0</td>\n",
       "      <td>...</td>\n",
       "      <td>0</td>\n",
       "      <td>0</td>\n",
       "      <td>0</td>\n",
       "      <td>0</td>\n",
       "      <td>0</td>\n",
       "      <td>0</td>\n",
       "      <td>0</td>\n",
       "      <td>0</td>\n",
       "      <td>0</td>\n",
       "      <td>0</td>\n",
       "    </tr>\n",
       "    <tr>\n",
       "      <th>7</th>\n",
       "      <td>Generic</td>\n",
       "      <td>0</td>\n",
       "      <td>0</td>\n",
       "      <td>0</td>\n",
       "      <td>0</td>\n",
       "      <td>0</td>\n",
       "      <td>0</td>\n",
       "      <td>0</td>\n",
       "      <td>0</td>\n",
       "      <td>0</td>\n",
       "      <td>...</td>\n",
       "      <td>0</td>\n",
       "      <td>0</td>\n",
       "      <td>0</td>\n",
       "      <td>0</td>\n",
       "      <td>0</td>\n",
       "      <td>0</td>\n",
       "      <td>0</td>\n",
       "      <td>0</td>\n",
       "      <td>0</td>\n",
       "      <td>0</td>\n",
       "    </tr>\n",
       "  </tbody>\n",
       "</table>\n",
       "<p>5 rows × 26659 columns</p>\n",
       "</div>"
      ],
      "text/plain": [
       "  Attack category  Attack subcategory_All  Attack subcategory_Apache  \\\n",
       "1        Exploits                       0                          0   \n",
       "2        Exploits                       0                          0   \n",
       "3        Exploits                       0                          0   \n",
       "4        Exploits                       0                          0   \n",
       "7         Generic                       0                          0   \n",
       "\n",
       "   Attack subcategory_Backup Appliance  Attack subcategory_Browser  \\\n",
       "1                                    0                           0   \n",
       "2                                    0                           1   \n",
       "3                                    0                           0   \n",
       "4                                    0                           0   \n",
       "7                                    0                           0   \n",
       "\n",
       "   Attack subcategory_Browser FTP  Attack subcategory_Cisco IOS  \\\n",
       "1                               0                             0   \n",
       "2                               0                             0   \n",
       "3                               0                             0   \n",
       "4                               0                             1   \n",
       "7                               0                             0   \n",
       "\n",
       "   Attack subcategory_Clientside  Attack subcategory_Clientside Microsoft  \\\n",
       "1                              0                                        0   \n",
       "2                              0                                        0   \n",
       "3                              0                                        0   \n",
       "4                              0                                        0   \n",
       "7                              0                                        0   \n",
       "\n",
       "   Attack subcategory_Clientside Microsoft Media Player  ...  \\\n",
       "1                                                  0     ...   \n",
       "2                                                  0     ...   \n",
       "3                                                  0     ...   \n",
       "4                                                  0     ...   \n",
       "7                                                  0     ...   \n",
       "\n",
       "   Destination Port_65455  Destination Port_65460  Destination Port_65470  \\\n",
       "1                       0                       0                       0   \n",
       "2                       0                       0                       0   \n",
       "3                       0                       0                       0   \n",
       "4                       0                       0                       0   \n",
       "7                       0                       0                       0   \n",
       "\n",
       "   Destination Port_65479  Destination Port_65486  Destination Port_65497  \\\n",
       "1                       0                       0                       0   \n",
       "2                       0                       0                       0   \n",
       "3                       0                       0                       0   \n",
       "4                       0                       0                       0   \n",
       "7                       0                       0                       0   \n",
       "\n",
       "   Destination Port_65502  Destination Port_65511  Destination Port_65517  \\\n",
       "1                       0                       0                       0   \n",
       "2                       0                       0                       0   \n",
       "3                       0                       0                       0   \n",
       "4                       0                       0                       0   \n",
       "7                       0                       0                       0   \n",
       "\n",
       "   Destination Port_65535  \n",
       "1                       0  \n",
       "2                       0  \n",
       "3                       0  \n",
       "4                       0  \n",
       "7                       0  \n",
       "\n",
       "[5 rows x 26659 columns]"
      ]
     },
     "execution_count": 13,
     "metadata": {},
     "output_type": "execute_result"
    }
   ],
   "source": [
    "df2.head()"
   ]
  },
  {
   "cell_type": "code",
   "execution_count": 14,
   "metadata": {},
   "outputs": [],
   "source": [
    "def check_attack(item):\n",
    "    if item == 'Exploits':\n",
    "        return 1\n",
    "    else:\n",
    "        return 0"
   ]
  },
  {
   "cell_type": "code",
   "execution_count": 15,
   "metadata": {},
   "outputs": [],
   "source": [
    "df2['Attack category'] = df2['Attack category'].apply(check_attack)"
   ]
  },
  {
   "cell_type": "code",
   "execution_count": 16,
   "metadata": {},
   "outputs": [],
   "source": [
    "df3 = df2.drop(columns=['Attack category'])"
   ]
  },
  {
   "cell_type": "code",
   "execution_count": 18,
   "metadata": {},
   "outputs": [],
   "source": [
    "data_train, data_test, labels_train, labels_test = train_test_split(df3, df2['Attack category'], test_size=0.30, random_state=110)"
   ]
  },
  {
   "cell_type": "code",
   "execution_count": 19,
   "metadata": {},
   "outputs": [
    {
     "name": "stdout",
     "output_type": "stream",
     "text": [
      "62918 26966 62918 26966\n"
     ]
    }
   ],
   "source": [
    "print(len(data_train),len(data_test),len(labels_train),len(labels_test))"
   ]
  },
  {
   "cell_type": "code",
   "execution_count": 20,
   "metadata": {},
   "outputs": [
    {
     "data": {
      "text/plain": [
       "RandomForestClassifier()"
      ]
     },
     "execution_count": 20,
     "metadata": {},
     "output_type": "execute_result"
    }
   ],
   "source": [
    "random_forest_classifier = RandomForestClassifier()\n",
    "random_forest_classifier.fit(data_train,labels_train)"
   ]
  },
  {
   "cell_type": "code",
   "execution_count": 21,
   "metadata": {},
   "outputs": [],
   "source": [
    "# Predict the result for the test data\n",
    "prediction_label = random_forest_classifier.predict(data_test)"
   ]
  },
  {
   "cell_type": "code",
   "execution_count": 22,
   "metadata": {},
   "outputs": [
    {
     "name": "stdout",
     "output_type": "stream",
     "text": [
      "[[ 6139    35]\n",
      " [   69 20723]]\n"
     ]
    },
    {
     "data": {
      "text/plain": [
       "0.9961432915523252"
      ]
     },
     "execution_count": 22,
     "metadata": {},
     "output_type": "execute_result"
    }
   ],
   "source": [
    "cm = confusion_matrix(labels_test,prediction_label)\n",
    "print(cm)\n",
    "accuracy_score(labels_test,prediction_label)"
   ]
  },
  {
   "cell_type": "code",
   "execution_count": null,
   "metadata": {},
   "outputs": [],
   "source": []
  }
 ],
 "metadata": {
  "kernelspec": {
   "display_name": "Python 3",
   "language": "python",
   "name": "python3"
  },
  "language_info": {
   "codemirror_mode": {
    "name": "ipython",
    "version": 3
   },
   "file_extension": ".py",
   "mimetype": "text/x-python",
   "name": "python",
   "nbconvert_exporter": "python",
   "pygments_lexer": "ipython3",
   "version": "3.8.10"
  }
 },
 "nbformat": 4,
 "nbformat_minor": 4
}
