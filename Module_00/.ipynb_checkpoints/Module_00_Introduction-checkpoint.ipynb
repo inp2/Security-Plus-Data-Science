{
 "cells": [
  {
   "cell_type": "markdown",
   "metadata": {},
   "source": [
    "# Security Plus Data Science"
   ]
  },
  {
   "attachments": {
    "bit.ly_cyber-data.png": {
     "image/png": "[encoded data removed]"
    }
   },
   "cell_type": "markdown",
   "metadata": {},
   "source": [
    "# Github Code: https://github.com/inp2/Security-Plus-Data-Science\n",
    "\n",
    "# WIFI: Hyatt Meeting\n",
    "\n",
    "# Access Code: nolacon \n",
    "\n",
    "# Discord: https://discord.gg/nVjwaDPm\n",
    "\n",
    "# Notebook PDF: https://bit.ly/cyber-data\n",
    "\n",
    "![bit.ly_cyber-data.png](attachment:bit.ly_cyber-data.png)\n"
   ]
  },
  {
   "cell_type": "markdown",
   "metadata": {},
   "source": [
    "This is an interactive course with the end goal of teaching security professionals on how to use data science techniques to analyze security data and uncover valuable insights from this data. The course will cover the entire data science process.\n"
   ]
  },
  {
   "cell_type": "markdown",
   "metadata": {},
   "source": [
    "## Objectives\n",
    "\n",
    "By end of the course you should be able to:\n",
    "\n",
    "* Prepare security data for various techniques\n",
    "* Understand the data science process\n",
    "* Apply various techniques to security datasets\n",
    "* Evalute and assess the performanc eof a model\n",
    "* Effectively visualize security data"
   ]
  },
  {
   "cell_type": "markdown",
   "metadata": {},
   "source": [
    "## Introduction\n",
    "\n",
    "Before we begin this class I want to get a feel for what are the goals for everyone in this room.\n",
    "\n",
    "* Why did you decide to take this course? \n",
    "* Are your a security expert wanting to learn the benefits of data science? \n",
    "* Are you a data scientist wanting to develop domain expertise in security? \n",
    "* Are there any particular goals you have for this course?\n",
    "* Any other questions?"
   ]
  },
  {
   "cell_type": "markdown",
   "metadata": {},
   "source": [
    "## Why Mix Data Science and Security?\n",
    "\n",
    "Data science is not and will never be a silver bullet for cybersecurity. There will always be a person trying to find a weakness in a system or algorithm. Hackers can rely on data science to carry out their nefarious endeavors. Data science is able to aid in solving the some tasks. In this era of big data, data science is one of many solutions."
   ]
  },
  {
   "cell_type": "markdown",
   "metadata": {},
   "source": [
    "## Terminology\n",
    "\n",
    "Let's review some basic terminology to help understand in general what is data science, and other potential useful concepts that we can use towards security.\n",
    "\n",
    "<img src=\"images/Venn-1-1.png\">\n"
   ]
  },
  {
   "cell_type": "markdown",
   "metadata": {},
   "source": [
    "Data science (DS) is a multi-disciplinary field that uses scientific methods, processes, algorithms and systems to extract knowledge and insights from structured and unstructured data. It employes techniques and theories drawn from many fields within the context of mathematics, statistics, information science, and computer science.\n",
    "\n",
    "<img src=\"images/datascience.jpg\">"
   ]
  },
  {
   "cell_type": "markdown",
   "metadata": {},
   "source": [
    "Artificial Intelligence (AI) a broad concept. A science of making things smart or, in other words, human tasks performed by machines. The main point is that AI is not exactly machine learning or smart things. AI is a thing that somehow carry out human tasks.\n",
    "\n",
    "<img src=\"images/ai_box_experiment.png\">"
   ]
  },
  {
   "cell_type": "markdown",
   "metadata": {},
   "source": [
    "Machine Learning (ML) an approach to AI that uses a system that is capable of learning from experience. It is intended not only for copying human behavior but it can also reduce the efforts and/or time spent for both simple and difficult tasks. ML is a system that can recognize patterns by using examples rather than by programming them. If your system learns constantly, makes decisions based on data rather than algorithms, and change its behavior.\n",
    "\n",
    "<img src=\"images/machine_learning.png\">"
   ]
  },
  {
   "cell_type": "markdown",
   "metadata": {},
   "source": [
    "Deep Learning (DL) a set of techniques for implementing machine learning that recognize patterns of patterns. The systems identify primarily object edges, a structure an object type, and then an object itself.\n",
    "\n",
    "<img src=\"images/Why-Deep-Learning.png\">"
   ]
  },
  {
   "cell_type": "markdown",
   "metadata": {},
   "source": [
    "# Where Does Data Science Help With Security?\n",
    "\n",
    "* Data Science\n",
    "    * Time Series Analysis\n",
    "        * Forecasting\n",
    "        * Frequency\n",
    "        * Correlation\n",
    "    * Network Analysis\n",
    "        * Connections\n",
    "        * Distributions\n",
    "        * Segmentation\n",
    "    * Machine Learning\n",
    "        * Malware identification\n",
    "        * Spam detection\n",
    "        * Anomaly detection\n",
    "        * Risk Scoring\n",
    "        * User & Entity Behavior Analysis\n",
    "        * Data Exploration\n"
   ]
  },
  {
   "cell_type": "markdown",
   "metadata": {},
   "source": [
    "### References:\n",
    "\n",
    "* https://towardsdatascience.com/machine-learning-for-cybersecurity-101-7822b802790b"
   ]
  },
  {
   "cell_type": "code",
   "execution_count": null,
   "metadata": {},
   "outputs": [],
   "source": []
  }
 ],
 "metadata": {
  "anaconda-cloud": {},
  "kernelspec": {
   "display_name": "Python 3 (ipykernel)",
   "language": "python",
   "name": "python3"
  },
  "language_info": {
   "codemirror_mode": {
    "name": "ipython",
    "version": 3
   },
   "file_extension": ".py",
   "mimetype": "text/x-python",
   "name": "python",
   "nbconvert_exporter": "python",
   "pygments_lexer": "ipython3",
   "version": "3.9.6"
  }
 },
 "nbformat": 4,
 "nbformat_minor": 2
}
