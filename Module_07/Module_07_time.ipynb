{
 "cells": [
  {
   "cell_type": "code",
   "execution_count": 1,
   "metadata": {},
   "outputs": [],
   "source": [
    "import pandas as pd\n",
    "import numpy as np\n",
    "import seaborn as sns\n",
    "import matplotlib.pyplot as plt\n",
    "import datetime\n",
    "\n",
    "%matplotlib inline"
   ]
  },
  {
   "cell_type": "markdown",
   "metadata": {},
   "source": [
    "### Dataset Description\n",
    "\n",
    "<img src=\"images/CDX_2009_Network_USMA-1.png\">\n",
    "\n",
    "* Snort Intrusion Detection Log/strong: from 0700-Nov-08 to 1600-Nov-11\n",
    "* Domain Name Service Logs: from 0700-Nov-08 to 1600-Nov-11\n",
    "    * External DNS named Service Log\n",
    "    * External DNS Message Log\n",
    "* Web Server Logs: 24-Hour Logs from 1600-Nov-10 to 1600-Nov-11\n",
    "    * Apache Web Server Access Log\n",
    "    * Apache Web Server Error Log"
   ]
  },
  {
   "cell_type": "markdown",
   "metadata": {},
   "source": [
    "# Time-Series Analysis\n",
    "\n",
    "Time series is a series of data points indexed in time order. The data is organized by relatively deterministic timestamps and contains additional information we can extract. The data points are indicators of some activity that takes place in a given period of time. The time is typically placed on the x-axis and the magnitude on the y-axis. An important things to keep in mind when dealing with the time series is the consistency of the interval of time. You can define this interval to whatever suits your needs and offers the most valuable insight. The time interval can range from millisecond, second, minute, hour, day, week, month, year, or even a decade or century."
   ]
  },
  {
   "cell_type": "markdown",
   "metadata": {},
   "source": [
    "Our data is currently in the form of error logs. We created a script to convert our logs into a csv file."
   ]
  },
  {
   "cell_type": "code",
   "execution_count": 2,
   "metadata": {
    "scrolled": true
   },
   "outputs": [
    {
     "data": {
      "text/html": [
       "<div>\n",
       "<style scoped>\n",
       "    .dataframe tbody tr th:only-of-type {\n",
       "        vertical-align: middle;\n",
       "    }\n",
       "\n",
       "    .dataframe tbody tr th {\n",
       "        vertical-align: top;\n",
       "    }\n",
       "\n",
       "    .dataframe thead th {\n",
       "        text-align: right;\n",
       "    }\n",
       "</style>\n",
       "<table border=\"1\" class=\"dataframe\">\n",
       "  <thead>\n",
       "    <tr style=\"text-align: right;\">\n",
       "      <th></th>\n",
       "      <th>external_author_id</th>\n",
       "      <th>author</th>\n",
       "      <th>content</th>\n",
       "      <th>region</th>\n",
       "      <th>language</th>\n",
       "      <th>publish_date</th>\n",
       "      <th>harvested_date</th>\n",
       "      <th>following</th>\n",
       "      <th>followers</th>\n",
       "      <th>updates</th>\n",
       "      <th>...</th>\n",
       "      <th>account_type</th>\n",
       "      <th>retweet</th>\n",
       "      <th>account_category</th>\n",
       "      <th>new_june_2018</th>\n",
       "      <th>alt_external_id</th>\n",
       "      <th>tweet_id</th>\n",
       "      <th>article_url</th>\n",
       "      <th>tco1_step1</th>\n",
       "      <th>tco2_step1</th>\n",
       "      <th>tco3_step1</th>\n",
       "    </tr>\n",
       "  </thead>\n",
       "  <tbody>\n",
       "    <tr>\n",
       "      <th>0</th>\n",
       "      <td>906000000000000000</td>\n",
       "      <td>10_GOP</td>\n",
       "      <td>\"We have a sitting Democrat US Senator on tria...</td>\n",
       "      <td>Unknown</td>\n",
       "      <td>English</td>\n",
       "      <td>10/1/2017 19:58</td>\n",
       "      <td>10/1/2017 19:59</td>\n",
       "      <td>1052</td>\n",
       "      <td>9636</td>\n",
       "      <td>253</td>\n",
       "      <td>...</td>\n",
       "      <td>Right</td>\n",
       "      <td>0</td>\n",
       "      <td>RightTroll</td>\n",
       "      <td>0</td>\n",
       "      <td>905874659358453760</td>\n",
       "      <td>914580356430536707</td>\n",
       "      <td>http://twitter.com/905874659358453760/statuses...</td>\n",
       "      <td>https://twitter.com/10_gop/status/914580356430...</td>\n",
       "      <td>NaN</td>\n",
       "      <td>NaN</td>\n",
       "    </tr>\n",
       "    <tr>\n",
       "      <th>1</th>\n",
       "      <td>906000000000000000</td>\n",
       "      <td>10_GOP</td>\n",
       "      <td>Marshawn Lynch arrives to game in anti-Trump s...</td>\n",
       "      <td>Unknown</td>\n",
       "      <td>English</td>\n",
       "      <td>10/1/2017 22:43</td>\n",
       "      <td>10/1/2017 22:43</td>\n",
       "      <td>1054</td>\n",
       "      <td>9637</td>\n",
       "      <td>254</td>\n",
       "      <td>...</td>\n",
       "      <td>Right</td>\n",
       "      <td>0</td>\n",
       "      <td>RightTroll</td>\n",
       "      <td>0</td>\n",
       "      <td>905874659358453760</td>\n",
       "      <td>914621840496189440</td>\n",
       "      <td>http://twitter.com/905874659358453760/statuses...</td>\n",
       "      <td>https://twitter.com/damienwoody/status/9145685...</td>\n",
       "      <td>NaN</td>\n",
       "      <td>NaN</td>\n",
       "    </tr>\n",
       "    <tr>\n",
       "      <th>2</th>\n",
       "      <td>906000000000000000</td>\n",
       "      <td>10_GOP</td>\n",
       "      <td>Daughter of fallen Navy Sailor delivers powerf...</td>\n",
       "      <td>Unknown</td>\n",
       "      <td>English</td>\n",
       "      <td>10/1/2017 22:50</td>\n",
       "      <td>10/1/2017 22:51</td>\n",
       "      <td>1054</td>\n",
       "      <td>9637</td>\n",
       "      <td>255</td>\n",
       "      <td>...</td>\n",
       "      <td>Right</td>\n",
       "      <td>1</td>\n",
       "      <td>RightTroll</td>\n",
       "      <td>0</td>\n",
       "      <td>905874659358453760</td>\n",
       "      <td>914623490375979008</td>\n",
       "      <td>http://twitter.com/905874659358453760/statuses...</td>\n",
       "      <td>https://twitter.com/10_gop/status/913231923715...</td>\n",
       "      <td>NaN</td>\n",
       "      <td>NaN</td>\n",
       "    </tr>\n",
       "    <tr>\n",
       "      <th>3</th>\n",
       "      <td>906000000000000000</td>\n",
       "      <td>10_GOP</td>\n",
       "      <td>JUST IN: President Trump dedicates Presidents ...</td>\n",
       "      <td>Unknown</td>\n",
       "      <td>English</td>\n",
       "      <td>10/1/2017 23:52</td>\n",
       "      <td>10/1/2017 23:52</td>\n",
       "      <td>1062</td>\n",
       "      <td>9642</td>\n",
       "      <td>256</td>\n",
       "      <td>...</td>\n",
       "      <td>Right</td>\n",
       "      <td>0</td>\n",
       "      <td>RightTroll</td>\n",
       "      <td>0</td>\n",
       "      <td>905874659358453760</td>\n",
       "      <td>914639143690555392</td>\n",
       "      <td>http://twitter.com/905874659358453760/statuses...</td>\n",
       "      <td>https://twitter.com/10_gop/status/914639143690...</td>\n",
       "      <td>NaN</td>\n",
       "      <td>NaN</td>\n",
       "    </tr>\n",
       "    <tr>\n",
       "      <th>4</th>\n",
       "      <td>906000000000000000</td>\n",
       "      <td>10_GOP</td>\n",
       "      <td>19,000 RESPECTING our National Anthem! #StandF...</td>\n",
       "      <td>Unknown</td>\n",
       "      <td>English</td>\n",
       "      <td>10/1/2017 2:13</td>\n",
       "      <td>10/1/2017 2:13</td>\n",
       "      <td>1050</td>\n",
       "      <td>9645</td>\n",
       "      <td>246</td>\n",
       "      <td>...</td>\n",
       "      <td>Right</td>\n",
       "      <td>1</td>\n",
       "      <td>RightTroll</td>\n",
       "      <td>0</td>\n",
       "      <td>905874659358453760</td>\n",
       "      <td>914312219952861184</td>\n",
       "      <td>http://twitter.com/905874659358453760/statuses...</td>\n",
       "      <td>https://twitter.com/realDonaldTrump/status/914...</td>\n",
       "      <td>NaN</td>\n",
       "      <td>NaN</td>\n",
       "    </tr>\n",
       "  </tbody>\n",
       "</table>\n",
       "<p>5 rows × 21 columns</p>\n",
       "</div>"
      ],
      "text/plain": [
       "   external_author_id  author  \\\n",
       "0  906000000000000000  10_GOP   \n",
       "1  906000000000000000  10_GOP   \n",
       "2  906000000000000000  10_GOP   \n",
       "3  906000000000000000  10_GOP   \n",
       "4  906000000000000000  10_GOP   \n",
       "\n",
       "                                             content   region language  \\\n",
       "0  \"We have a sitting Democrat US Senator on tria...  Unknown  English   \n",
       "1  Marshawn Lynch arrives to game in anti-Trump s...  Unknown  English   \n",
       "2  Daughter of fallen Navy Sailor delivers powerf...  Unknown  English   \n",
       "3  JUST IN: President Trump dedicates Presidents ...  Unknown  English   \n",
       "4  19,000 RESPECTING our National Anthem! #StandF...  Unknown  English   \n",
       "\n",
       "      publish_date   harvested_date  following  followers  updates  ...  \\\n",
       "0  10/1/2017 19:58  10/1/2017 19:59       1052       9636      253  ...   \n",
       "1  10/1/2017 22:43  10/1/2017 22:43       1054       9637      254  ...   \n",
       "2  10/1/2017 22:50  10/1/2017 22:51       1054       9637      255  ...   \n",
       "3  10/1/2017 23:52  10/1/2017 23:52       1062       9642      256  ...   \n",
       "4   10/1/2017 2:13   10/1/2017 2:13       1050       9645      246  ...   \n",
       "\n",
       "  account_type retweet  account_category new_june_2018     alt_external_id  \\\n",
       "0        Right       0        RightTroll             0  905874659358453760   \n",
       "1        Right       0        RightTroll             0  905874659358453760   \n",
       "2        Right       1        RightTroll             0  905874659358453760   \n",
       "3        Right       0        RightTroll             0  905874659358453760   \n",
       "4        Right       1        RightTroll             0  905874659358453760   \n",
       "\n",
       "             tweet_id                                        article_url  \\\n",
       "0  914580356430536707  http://twitter.com/905874659358453760/statuses...   \n",
       "1  914621840496189440  http://twitter.com/905874659358453760/statuses...   \n",
       "2  914623490375979008  http://twitter.com/905874659358453760/statuses...   \n",
       "3  914639143690555392  http://twitter.com/905874659358453760/statuses...   \n",
       "4  914312219952861184  http://twitter.com/905874659358453760/statuses...   \n",
       "\n",
       "                                          tco1_step1 tco2_step1 tco3_step1  \n",
       "0  https://twitter.com/10_gop/status/914580356430...        NaN        NaN  \n",
       "1  https://twitter.com/damienwoody/status/9145685...        NaN        NaN  \n",
       "2  https://twitter.com/10_gop/status/913231923715...        NaN        NaN  \n",
       "3  https://twitter.com/10_gop/status/914639143690...        NaN        NaN  \n",
       "4  https://twitter.com/realDonaldTrump/status/914...        NaN        NaN  \n",
       "\n",
       "[5 rows x 21 columns]"
      ]
     },
     "execution_count": 2,
     "metadata": {},
     "output_type": "execute_result"
    }
   ],
   "source": [
    "import os\n",
    "import sys\n",
    "\n",
    "df = pd.read_csv('data/IRAhandle_tweets.csv')\n",
    "df.head()"
   ]
  },
  {
   "cell_type": "markdown",
   "metadata": {},
   "source": [
    "Before we analyze our dataset lets clean it up my removing unnecessarily information."
   ]
  },
  {
   "cell_type": "code",
   "execution_count": 3,
   "metadata": {},
   "outputs": [
    {
     "data": {
      "text/html": [
       "<div>\n",
       "<style scoped>\n",
       "    .dataframe tbody tr th:only-of-type {\n",
       "        vertical-align: middle;\n",
       "    }\n",
       "\n",
       "    .dataframe tbody tr th {\n",
       "        vertical-align: top;\n",
       "    }\n",
       "\n",
       "    .dataframe thead th {\n",
       "        text-align: right;\n",
       "    }\n",
       "</style>\n",
       "<table border=\"1\" class=\"dataframe\">\n",
       "  <thead>\n",
       "    <tr style=\"text-align: right;\">\n",
       "      <th></th>\n",
       "      <th>external_author_id</th>\n",
       "      <th>author</th>\n",
       "      <th>content</th>\n",
       "      <th>region</th>\n",
       "      <th>language</th>\n",
       "      <th>publish_date</th>\n",
       "      <th>harvested_date</th>\n",
       "      <th>following</th>\n",
       "      <th>followers</th>\n",
       "      <th>updates</th>\n",
       "      <th>post_type</th>\n",
       "      <th>account_type</th>\n",
       "      <th>retweet</th>\n",
       "      <th>account_category</th>\n",
       "      <th>new_june_2018</th>\n",
       "      <th>alt_external_id</th>\n",
       "      <th>tweet_id</th>\n",
       "      <th>article_url</th>\n",
       "    </tr>\n",
       "  </thead>\n",
       "  <tbody>\n",
       "    <tr>\n",
       "      <th>0</th>\n",
       "      <td>906000000000000000</td>\n",
       "      <td>10_GOP</td>\n",
       "      <td>\"We have a sitting Democrat US Senator on tria...</td>\n",
       "      <td>Unknown</td>\n",
       "      <td>English</td>\n",
       "      <td>10/1/2017 19:58</td>\n",
       "      <td>10/1/2017 19:59</td>\n",
       "      <td>1052</td>\n",
       "      <td>9636</td>\n",
       "      <td>253</td>\n",
       "      <td>NaN</td>\n",
       "      <td>Right</td>\n",
       "      <td>0</td>\n",
       "      <td>RightTroll</td>\n",
       "      <td>0</td>\n",
       "      <td>905874659358453760</td>\n",
       "      <td>914580356430536707</td>\n",
       "      <td>http://twitter.com/905874659358453760/statuses...</td>\n",
       "    </tr>\n",
       "    <tr>\n",
       "      <th>1</th>\n",
       "      <td>906000000000000000</td>\n",
       "      <td>10_GOP</td>\n",
       "      <td>Marshawn Lynch arrives to game in anti-Trump s...</td>\n",
       "      <td>Unknown</td>\n",
       "      <td>English</td>\n",
       "      <td>10/1/2017 22:43</td>\n",
       "      <td>10/1/2017 22:43</td>\n",
       "      <td>1054</td>\n",
       "      <td>9637</td>\n",
       "      <td>254</td>\n",
       "      <td>NaN</td>\n",
       "      <td>Right</td>\n",
       "      <td>0</td>\n",
       "      <td>RightTroll</td>\n",
       "      <td>0</td>\n",
       "      <td>905874659358453760</td>\n",
       "      <td>914621840496189440</td>\n",
       "      <td>http://twitter.com/905874659358453760/statuses...</td>\n",
       "    </tr>\n",
       "    <tr>\n",
       "      <th>2</th>\n",
       "      <td>906000000000000000</td>\n",
       "      <td>10_GOP</td>\n",
       "      <td>Daughter of fallen Navy Sailor delivers powerf...</td>\n",
       "      <td>Unknown</td>\n",
       "      <td>English</td>\n",
       "      <td>10/1/2017 22:50</td>\n",
       "      <td>10/1/2017 22:51</td>\n",
       "      <td>1054</td>\n",
       "      <td>9637</td>\n",
       "      <td>255</td>\n",
       "      <td>RETWEET</td>\n",
       "      <td>Right</td>\n",
       "      <td>1</td>\n",
       "      <td>RightTroll</td>\n",
       "      <td>0</td>\n",
       "      <td>905874659358453760</td>\n",
       "      <td>914623490375979008</td>\n",
       "      <td>http://twitter.com/905874659358453760/statuses...</td>\n",
       "    </tr>\n",
       "    <tr>\n",
       "      <th>3</th>\n",
       "      <td>906000000000000000</td>\n",
       "      <td>10_GOP</td>\n",
       "      <td>JUST IN: President Trump dedicates Presidents ...</td>\n",
       "      <td>Unknown</td>\n",
       "      <td>English</td>\n",
       "      <td>10/1/2017 23:52</td>\n",
       "      <td>10/1/2017 23:52</td>\n",
       "      <td>1062</td>\n",
       "      <td>9642</td>\n",
       "      <td>256</td>\n",
       "      <td>NaN</td>\n",
       "      <td>Right</td>\n",
       "      <td>0</td>\n",
       "      <td>RightTroll</td>\n",
       "      <td>0</td>\n",
       "      <td>905874659358453760</td>\n",
       "      <td>914639143690555392</td>\n",
       "      <td>http://twitter.com/905874659358453760/statuses...</td>\n",
       "    </tr>\n",
       "    <tr>\n",
       "      <th>4</th>\n",
       "      <td>906000000000000000</td>\n",
       "      <td>10_GOP</td>\n",
       "      <td>19,000 RESPECTING our National Anthem! #StandF...</td>\n",
       "      <td>Unknown</td>\n",
       "      <td>English</td>\n",
       "      <td>10/1/2017 2:13</td>\n",
       "      <td>10/1/2017 2:13</td>\n",
       "      <td>1050</td>\n",
       "      <td>9645</td>\n",
       "      <td>246</td>\n",
       "      <td>RETWEET</td>\n",
       "      <td>Right</td>\n",
       "      <td>1</td>\n",
       "      <td>RightTroll</td>\n",
       "      <td>0</td>\n",
       "      <td>905874659358453760</td>\n",
       "      <td>914312219952861184</td>\n",
       "      <td>http://twitter.com/905874659358453760/statuses...</td>\n",
       "    </tr>\n",
       "    <tr>\n",
       "      <th>...</th>\n",
       "      <td>...</td>\n",
       "      <td>...</td>\n",
       "      <td>...</td>\n",
       "      <td>...</td>\n",
       "      <td>...</td>\n",
       "      <td>...</td>\n",
       "      <td>...</td>\n",
       "      <td>...</td>\n",
       "      <td>...</td>\n",
       "      <td>...</td>\n",
       "      <td>...</td>\n",
       "      <td>...</td>\n",
       "      <td>...</td>\n",
       "      <td>...</td>\n",
       "      <td>...</td>\n",
       "      <td>...</td>\n",
       "      <td>...</td>\n",
       "      <td>...</td>\n",
       "    </tr>\n",
       "    <tr>\n",
       "      <th>243886</th>\n",
       "      <td>2497991305</td>\n",
       "      <td>AUSTINLOVESBEER</td>\n",
       "      <td>BREAKING: Killer avalanche sweeps three skiers...</td>\n",
       "      <td>United States</td>\n",
       "      <td>English</td>\n",
       "      <td>3/8/2017 8:59</td>\n",
       "      <td>3/8/2017 8:59</td>\n",
       "      <td>41</td>\n",
       "      <td>34</td>\n",
       "      <td>173</td>\n",
       "      <td>RETWEET</td>\n",
       "      <td>Right</td>\n",
       "      <td>1</td>\n",
       "      <td>RightTroll</td>\n",
       "      <td>0</td>\n",
       "      <td>2497991305</td>\n",
       "      <td>839400198002503680</td>\n",
       "      <td>http://twitter.com/2497991305/statuses/8394001...</td>\n",
       "    </tr>\n",
       "    <tr>\n",
       "      <th>243887</th>\n",
       "      <td>2497991305</td>\n",
       "      <td>AUSTINLOVESBEER</td>\n",
       "      <td>Why men should support International Women’s D...</td>\n",
       "      <td>United States</td>\n",
       "      <td>English</td>\n",
       "      <td>3/8/2017 8:59</td>\n",
       "      <td>3/8/2017 9:00</td>\n",
       "      <td>41</td>\n",
       "      <td>34</td>\n",
       "      <td>175</td>\n",
       "      <td>RETWEET</td>\n",
       "      <td>Right</td>\n",
       "      <td>1</td>\n",
       "      <td>RightTroll</td>\n",
       "      <td>0</td>\n",
       "      <td>2497991305</td>\n",
       "      <td>839400290168135680</td>\n",
       "      <td>http://twitter.com/2497991305/statuses/8394002...</td>\n",
       "    </tr>\n",
       "    <tr>\n",
       "      <th>243888</th>\n",
       "      <td>2497991305</td>\n",
       "      <td>AUSTINLOVESBEER</td>\n",
       "      <td>How we can rebuild trust in a UK divided by in...</td>\n",
       "      <td>United States</td>\n",
       "      <td>English</td>\n",
       "      <td>3/8/2017 8:59</td>\n",
       "      <td>3/8/2017 8:59</td>\n",
       "      <td>41</td>\n",
       "      <td>34</td>\n",
       "      <td>170</td>\n",
       "      <td>RETWEET</td>\n",
       "      <td>Right</td>\n",
       "      <td>1</td>\n",
       "      <td>RightTroll</td>\n",
       "      <td>0</td>\n",
       "      <td>2497991305</td>\n",
       "      <td>839400090582179840</td>\n",
       "      <td>http://twitter.com/2497991305/statuses/8394000...</td>\n",
       "    </tr>\n",
       "    <tr>\n",
       "      <th>243889</th>\n",
       "      <td>2497991305</td>\n",
       "      <td>AUSTINLOVESBEER</td>\n",
       "      <td>John Humphrys accused of patronising Angela Ra...</td>\n",
       "      <td>United States</td>\n",
       "      <td>English</td>\n",
       "      <td>3/8/2017 8:59</td>\n",
       "      <td>3/8/2017 8:59</td>\n",
       "      <td>41</td>\n",
       "      <td>34</td>\n",
       "      <td>171</td>\n",
       "      <td>RETWEET</td>\n",
       "      <td>Right</td>\n",
       "      <td>1</td>\n",
       "      <td>RightTroll</td>\n",
       "      <td>0</td>\n",
       "      <td>2497991305</td>\n",
       "      <td>839400131325648896</td>\n",
       "      <td>http://twitter.com/2497991305/statuses/8394001...</td>\n",
       "    </tr>\n",
       "    <tr>\n",
       "      <th>243890</th>\n",
       "      <td>2497991305</td>\n",
       "      <td>AUSTINLOVESBEER</td>\n",
       "      <td>Fossilized poop found in 180-million-year-old ...</td>\n",
       "      <td>United States</td>\n",
       "      <td>English</td>\n",
       "      <td>3/8/2017 8:59</td>\n",
       "      <td>3/8/2017 8:59</td>\n",
       "      <td>41</td>\n",
       "      <td>34</td>\n",
       "      <td>174</td>\n",
       "      <td>RETWEET</td>\n",
       "      <td>Right</td>\n",
       "      <td>1</td>\n",
       "      <td>RightTroll</td>\n",
       "      <td>0</td>\n",
       "      <td>2497991305</td>\n",
       "      <td>839400253413437440</td>\n",
       "      <td>http://twitter.com/2497991305/statuses/8394002...</td>\n",
       "    </tr>\n",
       "  </tbody>\n",
       "</table>\n",
       "<p>243891 rows × 18 columns</p>\n",
       "</div>"
      ],
      "text/plain": [
       "        external_author_id           author  \\\n",
       "0       906000000000000000           10_GOP   \n",
       "1       906000000000000000           10_GOP   \n",
       "2       906000000000000000           10_GOP   \n",
       "3       906000000000000000           10_GOP   \n",
       "4       906000000000000000           10_GOP   \n",
       "...                    ...              ...   \n",
       "243886          2497991305  AUSTINLOVESBEER   \n",
       "243887          2497991305  AUSTINLOVESBEER   \n",
       "243888          2497991305  AUSTINLOVESBEER   \n",
       "243889          2497991305  AUSTINLOVESBEER   \n",
       "243890          2497991305  AUSTINLOVESBEER   \n",
       "\n",
       "                                                  content         region  \\\n",
       "0       \"We have a sitting Democrat US Senator on tria...        Unknown   \n",
       "1       Marshawn Lynch arrives to game in anti-Trump s...        Unknown   \n",
       "2       Daughter of fallen Navy Sailor delivers powerf...        Unknown   \n",
       "3       JUST IN: President Trump dedicates Presidents ...        Unknown   \n",
       "4       19,000 RESPECTING our National Anthem! #StandF...        Unknown   \n",
       "...                                                   ...            ...   \n",
       "243886  BREAKING: Killer avalanche sweeps three skiers...  United States   \n",
       "243887  Why men should support International Women’s D...  United States   \n",
       "243888  How we can rebuild trust in a UK divided by in...  United States   \n",
       "243889  John Humphrys accused of patronising Angela Ra...  United States   \n",
       "243890  Fossilized poop found in 180-million-year-old ...  United States   \n",
       "\n",
       "       language     publish_date   harvested_date  following  followers  \\\n",
       "0       English  10/1/2017 19:58  10/1/2017 19:59       1052       9636   \n",
       "1       English  10/1/2017 22:43  10/1/2017 22:43       1054       9637   \n",
       "2       English  10/1/2017 22:50  10/1/2017 22:51       1054       9637   \n",
       "3       English  10/1/2017 23:52  10/1/2017 23:52       1062       9642   \n",
       "4       English   10/1/2017 2:13   10/1/2017 2:13       1050       9645   \n",
       "...         ...              ...              ...        ...        ...   \n",
       "243886  English    3/8/2017 8:59    3/8/2017 8:59         41         34   \n",
       "243887  English    3/8/2017 8:59    3/8/2017 9:00         41         34   \n",
       "243888  English    3/8/2017 8:59    3/8/2017 8:59         41         34   \n",
       "243889  English    3/8/2017 8:59    3/8/2017 8:59         41         34   \n",
       "243890  English    3/8/2017 8:59    3/8/2017 8:59         41         34   \n",
       "\n",
       "        updates post_type account_type  retweet account_category  \\\n",
       "0           253       NaN        Right        0       RightTroll   \n",
       "1           254       NaN        Right        0       RightTroll   \n",
       "2           255   RETWEET        Right        1       RightTroll   \n",
       "3           256       NaN        Right        0       RightTroll   \n",
       "4           246   RETWEET        Right        1       RightTroll   \n",
       "...         ...       ...          ...      ...              ...   \n",
       "243886      173   RETWEET        Right        1       RightTroll   \n",
       "243887      175   RETWEET        Right        1       RightTroll   \n",
       "243888      170   RETWEET        Right        1       RightTroll   \n",
       "243889      171   RETWEET        Right        1       RightTroll   \n",
       "243890      174   RETWEET        Right        1       RightTroll   \n",
       "\n",
       "        new_june_2018     alt_external_id            tweet_id  \\\n",
       "0                   0  905874659358453760  914580356430536707   \n",
       "1                   0  905874659358453760  914621840496189440   \n",
       "2                   0  905874659358453760  914623490375979008   \n",
       "3                   0  905874659358453760  914639143690555392   \n",
       "4                   0  905874659358453760  914312219952861184   \n",
       "...               ...                 ...                 ...   \n",
       "243886              0          2497991305  839400198002503680   \n",
       "243887              0          2497991305  839400290168135680   \n",
       "243888              0          2497991305  839400090582179840   \n",
       "243889              0          2497991305  839400131325648896   \n",
       "243890              0          2497991305  839400253413437440   \n",
       "\n",
       "                                              article_url  \n",
       "0       http://twitter.com/905874659358453760/statuses...  \n",
       "1       http://twitter.com/905874659358453760/statuses...  \n",
       "2       http://twitter.com/905874659358453760/statuses...  \n",
       "3       http://twitter.com/905874659358453760/statuses...  \n",
       "4       http://twitter.com/905874659358453760/statuses...  \n",
       "...                                                   ...  \n",
       "243886  http://twitter.com/2497991305/statuses/8394001...  \n",
       "243887  http://twitter.com/2497991305/statuses/8394002...  \n",
       "243888  http://twitter.com/2497991305/statuses/8394000...  \n",
       "243889  http://twitter.com/2497991305/statuses/8394001...  \n",
       "243890  http://twitter.com/2497991305/statuses/8394002...  \n",
       "\n",
       "[243891 rows x 18 columns]"
      ]
     },
     "execution_count": 3,
     "metadata": {},
     "output_type": "execute_result"
    }
   ],
   "source": [
    "df.drop(columns=['tco1_step1', 'tco2_step1', 'tco3_step1'])"
   ]
  },
  {
   "cell_type": "markdown",
   "metadata": {},
   "source": [
    "Before we analyze our dataset let set if our time columns are actually time-series objects."
   ]
  },
  {
   "cell_type": "code",
   "execution_count": 4,
   "metadata": {
    "scrolled": true
   },
   "outputs": [
    {
     "data": {
      "text/plain": [
       "external_author_id     int64\n",
       "author                object\n",
       "content               object\n",
       "region                object\n",
       "language              object\n",
       "publish_date          object\n",
       "harvested_date        object\n",
       "following              int64\n",
       "followers              int64\n",
       "updates                int64\n",
       "post_type             object\n",
       "account_type          object\n",
       "retweet                int64\n",
       "account_category      object\n",
       "new_june_2018          int64\n",
       "alt_external_id        int64\n",
       "tweet_id               int64\n",
       "article_url           object\n",
       "tco1_step1            object\n",
       "tco2_step1            object\n",
       "tco3_step1            object\n",
       "dtype: object"
      ]
     },
     "execution_count": 4,
     "metadata": {},
     "output_type": "execute_result"
    }
   ],
   "source": [
    "df.dtypes"
   ]
  },
  {
   "cell_type": "markdown",
   "metadata": {},
   "source": [
    "We can see `publish_date`, and `harvested_date` all need to be converted to the `datetime` form\n",
    "\n",
    "`datetime` is a module that supplies classes for manipulating dates and times in both simple and complex ways. `date` and `time` arithmetic is supported, the focus of the implementation is on efficient attribute extraction for output formatting and manipulation.\n",
    "\n",
    "Let's convert these columns to datetime format."
   ]
  },
  {
   "cell_type": "code",
   "execution_count": 5,
   "metadata": {},
   "outputs": [],
   "source": [
    "df['publish_date'] = pd.to_datetime(df['publish_date'])"
   ]
  },
  {
   "cell_type": "markdown",
   "metadata": {},
   "source": [
    "### Exercise 1\n",
    "\n",
    "* Convert the `harvested_date` to the datetime column"
   ]
  },
  {
   "cell_type": "markdown",
   "metadata": {},
   "source": [
    "In order to plot with pandas the time must be the index of the dataframe."
   ]
  },
  {
   "cell_type": "code",
   "execution_count": 6,
   "metadata": {},
   "outputs": [],
   "source": [
    "df = df.set_index('publish_date')"
   ]
  },
  {
   "cell_type": "code",
   "execution_count": 7,
   "metadata": {},
   "outputs": [
    {
     "data": {
      "text/html": [
       "<div>\n",
       "<style scoped>\n",
       "    .dataframe tbody tr th:only-of-type {\n",
       "        vertical-align: middle;\n",
       "    }\n",
       "\n",
       "    .dataframe tbody tr th {\n",
       "        vertical-align: top;\n",
       "    }\n",
       "\n",
       "    .dataframe thead th {\n",
       "        text-align: right;\n",
       "    }\n",
       "</style>\n",
       "<table border=\"1\" class=\"dataframe\">\n",
       "  <thead>\n",
       "    <tr style=\"text-align: right;\">\n",
       "      <th></th>\n",
       "      <th>external_author_id</th>\n",
       "      <th>author</th>\n",
       "      <th>content</th>\n",
       "      <th>region</th>\n",
       "      <th>language</th>\n",
       "      <th>harvested_date</th>\n",
       "      <th>following</th>\n",
       "      <th>followers</th>\n",
       "      <th>updates</th>\n",
       "      <th>post_type</th>\n",
       "      <th>account_type</th>\n",
       "      <th>retweet</th>\n",
       "      <th>account_category</th>\n",
       "      <th>new_june_2018</th>\n",
       "      <th>alt_external_id</th>\n",
       "      <th>tweet_id</th>\n",
       "      <th>article_url</th>\n",
       "      <th>tco1_step1</th>\n",
       "      <th>tco2_step1</th>\n",
       "      <th>tco3_step1</th>\n",
       "    </tr>\n",
       "    <tr>\n",
       "      <th>publish_date</th>\n",
       "      <th></th>\n",
       "      <th></th>\n",
       "      <th></th>\n",
       "      <th></th>\n",
       "      <th></th>\n",
       "      <th></th>\n",
       "      <th></th>\n",
       "      <th></th>\n",
       "      <th></th>\n",
       "      <th></th>\n",
       "      <th></th>\n",
       "      <th></th>\n",
       "      <th></th>\n",
       "      <th></th>\n",
       "      <th></th>\n",
       "      <th></th>\n",
       "      <th></th>\n",
       "      <th></th>\n",
       "      <th></th>\n",
       "      <th></th>\n",
       "    </tr>\n",
       "  </thead>\n",
       "  <tbody>\n",
       "    <tr>\n",
       "      <th>2017-10-01 19:58:00</th>\n",
       "      <td>906000000000000000</td>\n",
       "      <td>10_GOP</td>\n",
       "      <td>\"We have a sitting Democrat US Senator on tria...</td>\n",
       "      <td>Unknown</td>\n",
       "      <td>English</td>\n",
       "      <td>10/1/2017 19:59</td>\n",
       "      <td>1052</td>\n",
       "      <td>9636</td>\n",
       "      <td>253</td>\n",
       "      <td>NaN</td>\n",
       "      <td>Right</td>\n",
       "      <td>0</td>\n",
       "      <td>RightTroll</td>\n",
       "      <td>0</td>\n",
       "      <td>905874659358453760</td>\n",
       "      <td>914580356430536707</td>\n",
       "      <td>http://twitter.com/905874659358453760/statuses...</td>\n",
       "      <td>https://twitter.com/10_gop/status/914580356430...</td>\n",
       "      <td>NaN</td>\n",
       "      <td>NaN</td>\n",
       "    </tr>\n",
       "    <tr>\n",
       "      <th>2017-10-01 22:43:00</th>\n",
       "      <td>906000000000000000</td>\n",
       "      <td>10_GOP</td>\n",
       "      <td>Marshawn Lynch arrives to game in anti-Trump s...</td>\n",
       "      <td>Unknown</td>\n",
       "      <td>English</td>\n",
       "      <td>10/1/2017 22:43</td>\n",
       "      <td>1054</td>\n",
       "      <td>9637</td>\n",
       "      <td>254</td>\n",
       "      <td>NaN</td>\n",
       "      <td>Right</td>\n",
       "      <td>0</td>\n",
       "      <td>RightTroll</td>\n",
       "      <td>0</td>\n",
       "      <td>905874659358453760</td>\n",
       "      <td>914621840496189440</td>\n",
       "      <td>http://twitter.com/905874659358453760/statuses...</td>\n",
       "      <td>https://twitter.com/damienwoody/status/9145685...</td>\n",
       "      <td>NaN</td>\n",
       "      <td>NaN</td>\n",
       "    </tr>\n",
       "    <tr>\n",
       "      <th>2017-10-01 22:50:00</th>\n",
       "      <td>906000000000000000</td>\n",
       "      <td>10_GOP</td>\n",
       "      <td>Daughter of fallen Navy Sailor delivers powerf...</td>\n",
       "      <td>Unknown</td>\n",
       "      <td>English</td>\n",
       "      <td>10/1/2017 22:51</td>\n",
       "      <td>1054</td>\n",
       "      <td>9637</td>\n",
       "      <td>255</td>\n",
       "      <td>RETWEET</td>\n",
       "      <td>Right</td>\n",
       "      <td>1</td>\n",
       "      <td>RightTroll</td>\n",
       "      <td>0</td>\n",
       "      <td>905874659358453760</td>\n",
       "      <td>914623490375979008</td>\n",
       "      <td>http://twitter.com/905874659358453760/statuses...</td>\n",
       "      <td>https://twitter.com/10_gop/status/913231923715...</td>\n",
       "      <td>NaN</td>\n",
       "      <td>NaN</td>\n",
       "    </tr>\n",
       "    <tr>\n",
       "      <th>2017-10-01 23:52:00</th>\n",
       "      <td>906000000000000000</td>\n",
       "      <td>10_GOP</td>\n",
       "      <td>JUST IN: President Trump dedicates Presidents ...</td>\n",
       "      <td>Unknown</td>\n",
       "      <td>English</td>\n",
       "      <td>10/1/2017 23:52</td>\n",
       "      <td>1062</td>\n",
       "      <td>9642</td>\n",
       "      <td>256</td>\n",
       "      <td>NaN</td>\n",
       "      <td>Right</td>\n",
       "      <td>0</td>\n",
       "      <td>RightTroll</td>\n",
       "      <td>0</td>\n",
       "      <td>905874659358453760</td>\n",
       "      <td>914639143690555392</td>\n",
       "      <td>http://twitter.com/905874659358453760/statuses...</td>\n",
       "      <td>https://twitter.com/10_gop/status/914639143690...</td>\n",
       "      <td>NaN</td>\n",
       "      <td>NaN</td>\n",
       "    </tr>\n",
       "    <tr>\n",
       "      <th>2017-10-01 02:13:00</th>\n",
       "      <td>906000000000000000</td>\n",
       "      <td>10_GOP</td>\n",
       "      <td>19,000 RESPECTING our National Anthem! #StandF...</td>\n",
       "      <td>Unknown</td>\n",
       "      <td>English</td>\n",
       "      <td>10/1/2017 2:13</td>\n",
       "      <td>1050</td>\n",
       "      <td>9645</td>\n",
       "      <td>246</td>\n",
       "      <td>RETWEET</td>\n",
       "      <td>Right</td>\n",
       "      <td>1</td>\n",
       "      <td>RightTroll</td>\n",
       "      <td>0</td>\n",
       "      <td>905874659358453760</td>\n",
       "      <td>914312219952861184</td>\n",
       "      <td>http://twitter.com/905874659358453760/statuses...</td>\n",
       "      <td>https://twitter.com/realDonaldTrump/status/914...</td>\n",
       "      <td>NaN</td>\n",
       "      <td>NaN</td>\n",
       "    </tr>\n",
       "  </tbody>\n",
       "</table>\n",
       "</div>"
      ],
      "text/plain": [
       "                     external_author_id  author  \\\n",
       "publish_date                                      \n",
       "2017-10-01 19:58:00  906000000000000000  10_GOP   \n",
       "2017-10-01 22:43:00  906000000000000000  10_GOP   \n",
       "2017-10-01 22:50:00  906000000000000000  10_GOP   \n",
       "2017-10-01 23:52:00  906000000000000000  10_GOP   \n",
       "2017-10-01 02:13:00  906000000000000000  10_GOP   \n",
       "\n",
       "                                                               content  \\\n",
       "publish_date                                                             \n",
       "2017-10-01 19:58:00  \"We have a sitting Democrat US Senator on tria...   \n",
       "2017-10-01 22:43:00  Marshawn Lynch arrives to game in anti-Trump s...   \n",
       "2017-10-01 22:50:00  Daughter of fallen Navy Sailor delivers powerf...   \n",
       "2017-10-01 23:52:00  JUST IN: President Trump dedicates Presidents ...   \n",
       "2017-10-01 02:13:00  19,000 RESPECTING our National Anthem! #StandF...   \n",
       "\n",
       "                      region language   harvested_date  following  followers  \\\n",
       "publish_date                                                                   \n",
       "2017-10-01 19:58:00  Unknown  English  10/1/2017 19:59       1052       9636   \n",
       "2017-10-01 22:43:00  Unknown  English  10/1/2017 22:43       1054       9637   \n",
       "2017-10-01 22:50:00  Unknown  English  10/1/2017 22:51       1054       9637   \n",
       "2017-10-01 23:52:00  Unknown  English  10/1/2017 23:52       1062       9642   \n",
       "2017-10-01 02:13:00  Unknown  English   10/1/2017 2:13       1050       9645   \n",
       "\n",
       "                     updates post_type account_type  retweet account_category  \\\n",
       "publish_date                                                                    \n",
       "2017-10-01 19:58:00      253       NaN        Right        0       RightTroll   \n",
       "2017-10-01 22:43:00      254       NaN        Right        0       RightTroll   \n",
       "2017-10-01 22:50:00      255   RETWEET        Right        1       RightTroll   \n",
       "2017-10-01 23:52:00      256       NaN        Right        0       RightTroll   \n",
       "2017-10-01 02:13:00      246   RETWEET        Right        1       RightTroll   \n",
       "\n",
       "                     new_june_2018     alt_external_id            tweet_id  \\\n",
       "publish_date                                                                 \n",
       "2017-10-01 19:58:00              0  905874659358453760  914580356430536707   \n",
       "2017-10-01 22:43:00              0  905874659358453760  914621840496189440   \n",
       "2017-10-01 22:50:00              0  905874659358453760  914623490375979008   \n",
       "2017-10-01 23:52:00              0  905874659358453760  914639143690555392   \n",
       "2017-10-01 02:13:00              0  905874659358453760  914312219952861184   \n",
       "\n",
       "                                                           article_url  \\\n",
       "publish_date                                                             \n",
       "2017-10-01 19:58:00  http://twitter.com/905874659358453760/statuses...   \n",
       "2017-10-01 22:43:00  http://twitter.com/905874659358453760/statuses...   \n",
       "2017-10-01 22:50:00  http://twitter.com/905874659358453760/statuses...   \n",
       "2017-10-01 23:52:00  http://twitter.com/905874659358453760/statuses...   \n",
       "2017-10-01 02:13:00  http://twitter.com/905874659358453760/statuses...   \n",
       "\n",
       "                                                            tco1_step1  \\\n",
       "publish_date                                                             \n",
       "2017-10-01 19:58:00  https://twitter.com/10_gop/status/914580356430...   \n",
       "2017-10-01 22:43:00  https://twitter.com/damienwoody/status/9145685...   \n",
       "2017-10-01 22:50:00  https://twitter.com/10_gop/status/913231923715...   \n",
       "2017-10-01 23:52:00  https://twitter.com/10_gop/status/914639143690...   \n",
       "2017-10-01 02:13:00  https://twitter.com/realDonaldTrump/status/914...   \n",
       "\n",
       "                    tco2_step1 tco3_step1  \n",
       "publish_date                               \n",
       "2017-10-01 19:58:00        NaN        NaN  \n",
       "2017-10-01 22:43:00        NaN        NaN  \n",
       "2017-10-01 22:50:00        NaN        NaN  \n",
       "2017-10-01 23:52:00        NaN        NaN  \n",
       "2017-10-01 02:13:00        NaN        NaN  "
      ]
     },
     "execution_count": 7,
     "metadata": {},
     "output_type": "execute_result"
    }
   ],
   "source": [
    "df.head()"
   ]
  },
  {
   "cell_type": "markdown",
   "metadata": {},
   "source": [
    "Now, we can plot the number of tweets over time."
   ]
  },
  {
   "cell_type": "code",
   "execution_count": 9,
   "metadata": {},
   "outputs": [
    {
     "data": {
      "text/plain": [
       "<AxesSubplot:xlabel='publish_date'>"
      ]
     },
     "execution_count": 9,
     "metadata": {},
     "output_type": "execute_result"
    },
    {
     "data": {
      "image/png": "[encoded data removed]",
      "text/plain": [
       "<Figure size 432x288 with 1 Axes>"
      ]
     },
     "metadata": {
      "needs_background": "light"
     },
     "output_type": "display_data"
    }
   ],
   "source": [
    "df['external_author_id'].resample('1S').count().plot()"
   ]
  },
  {
   "cell_type": "markdown",
   "metadata": {},
   "source": [
    "The plot above demonstrates the number of events shown over time. Now it is your turn!"
   ]
  },
  {
   "cell_type": "markdown",
   "metadata": {},
   "source": [
    "# Exercise 2\n",
    "\n",
    "* Choose any one of the time-series columns\n",
    "* Plot the number of events over time"
   ]
  },
  {
   "cell_type": "markdown",
   "metadata": {},
   "source": [
    "We also look at the mean and standard deviation of the number of tweet published over time."
   ]
  },
  {
   "cell_type": "code",
   "execution_count": 17,
   "metadata": {},
   "outputs": [
    {
     "data": {
      "image/png": "[encoded data removed]",
      "text/plain": [
       "<Figure size 432x288 with 2 Axes>"
      ]
     },
     "metadata": {
      "needs_background": "light"
     },
     "output_type": "display_data"
    }
   ],
   "source": [
    "r = df['external_author_id'].resample('M').agg(['mean', 'std'])\n",
    "r.plot(subplots=True, title='Number of Tweets Over Time')\n",
    "plt.show()"
   ]
  },
  {
   "cell_type": "code",
   "execution_count": 18,
   "metadata": {},
   "outputs": [
    {
     "data": {
      "image/png": "[encoded data removed]",
      "text/plain": [
       "<Figure size 432x288 with 2 Axes>"
      ]
     },
     "metadata": {
      "needs_background": "light"
     },
     "output_type": "display_data"
    }
   ],
   "source": [
    "r = df['external_author_id'].resample('1Y').agg(['mean', 'std'])\n",
    "r.plot(subplots=True, title='Number of Tweets Over Time')\n",
    "plt.show()"
   ]
  },
  {
   "cell_type": "code",
   "execution_count": 19,
   "metadata": {},
   "outputs": [
    {
     "data": {
      "image/png": "[encoded data removed]",
      "text/plain": [
       "<Figure size 432x288 with 2 Axes>"
      ]
     },
     "metadata": {
      "needs_background": "light"
     },
     "output_type": "display_data"
    }
   ],
   "source": [
    "r = df['external_author_id'].resample('Q').agg(['mean', 'std'])\n",
    "r.plot(subplots=True, title='Number of Tweets Over Time')\n",
    "plt.show()"
   ]
  },
  {
   "cell_type": "markdown",
   "metadata": {},
   "source": [
    "Resample over a week, compute the mean and compare accross multiple values."
   ]
  },
  {
   "cell_type": "code",
   "execution_count": 20,
   "metadata": {},
   "outputs": [
    {
     "data": {
      "image/png": "[encoded data removed]",
      "text/plain": [
       "<Figure size 432x288 with 1 Axes>"
      ]
     },
     "metadata": {
      "needs_background": "light"
     },
     "output_type": "display_data"
    }
   ],
   "source": [
    "df['following'].resample('W').mean().plot(color='r', legend=True)\n",
    "df['followers'].resample('W').mean().plot(color='b', legend=True)\n",
    "plt.show()"
   ]
  },
  {
   "cell_type": "code",
   "execution_count": 21,
   "metadata": {},
   "outputs": [
    {
     "data": {
      "image/png": "[encoded data removed]",
      "text/plain": [
       "<Figure size 432x288 with 1 Axes>"
      ]
     },
     "metadata": {
      "needs_background": "light"
     },
     "output_type": "display_data"
    }
   ],
   "source": [
    "df['following'].resample('Q').mean().plot(color='r', legend=True)\n",
    "df['followers'].resample('Q').mean().plot(color='b', legend=True)\n",
    "plt.show()"
   ]
  },
  {
   "cell_type": "code",
   "execution_count": 22,
   "metadata": {},
   "outputs": [
    {
     "data": {
      "image/png": "[encoded data removed]",
      "text/plain": [
       "<Figure size 432x288 with 1 Axes>"
      ]
     },
     "metadata": {
      "needs_background": "light"
     },
     "output_type": "display_data"
    }
   ],
   "source": [
    "df['following'].resample('M').mean().plot(color='r', legend=True)\n",
    "df['followers'].resample('M').mean().plot(color='b', legend=True)\n",
    "plt.show()"
   ]
  },
  {
   "cell_type": "markdown",
   "metadata": {},
   "source": [
    "Histogram plot of the mean different features resampled over month"
   ]
  },
  {
   "cell_type": "code",
   "execution_count": 23,
   "metadata": {},
   "outputs": [
    {
     "data": {
      "image/png": "[encoded data removed]",
      "text/plain": [
       "<Figure size 432x288 with 1 Axes>"
      ]
     },
     "metadata": {
      "needs_background": "light"
     },
     "output_type": "display_data"
    }
   ],
   "source": [
    "df['following'].resample('W').mean().plot(kind='hist', color='r', legend=True)\n",
    "df['followers'].resample('W').mean().plot(kind='hist', color='g', legend=True)\n",
    "plt.show()"
   ]
  },
  {
   "cell_type": "code",
   "execution_count": 24,
   "metadata": {},
   "outputs": [
    {
     "data": {
      "image/png": "[encoded data removed]",
      "text/plain": [
       "<Figure size 432x288 with 1 Axes>"
      ]
     },
     "metadata": {
      "needs_background": "light"
     },
     "output_type": "display_data"
    }
   ],
   "source": [
    "df['following'].resample('M').mean().plot(kind='hist', color='r', legend=True)\n",
    "df['followers'].resample('M').mean().plot(kind='hist', color='g', legend=True)\n",
    "plt.show()"
   ]
  },
  {
   "cell_type": "code",
   "execution_count": 25,
   "metadata": {},
   "outputs": [
    {
     "data": {
      "image/png": "[encoded data removed]",
      "text/plain": [
       "<Figure size 432x288 with 1 Axes>"
      ]
     },
     "metadata": {
      "needs_background": "light"
     },
     "output_type": "display_data"
    }
   ],
   "source": [
    "df['following'].resample('Q').mean().plot(kind='hist', color='r', legend=True)\n",
    "df['followers'].resample('Q').mean().plot(kind='hist', color='g', legend=True)\n",
    "plt.show()"
   ]
  },
  {
   "cell_type": "code",
   "execution_count": null,
   "metadata": {},
   "outputs": [],
   "source": []
  },
  {
   "cell_type": "code",
   "execution_count": null,
   "metadata": {},
   "outputs": [],
   "source": []
  }
 ],
 "metadata": {
  "kernelspec": {
   "display_name": "Python 3",
   "language": "python",
   "name": "python3"
  },
  "language_info": {
   "codemirror_mode": {
    "name": "ipython",
    "version": 3
   },
   "file_extension": ".py",
   "mimetype": "text/x-python",
   "name": "python",
   "nbconvert_exporter": "python",
   "pygments_lexer": "ipython3",
   "version": "3.8.10"
  }
 },
 "nbformat": 4,
 "nbformat_minor": 2
}
