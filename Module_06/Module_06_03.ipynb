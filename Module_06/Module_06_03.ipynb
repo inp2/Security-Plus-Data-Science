{
 "cells": [
  {
   "cell_type": "code",
   "execution_count": 1,
   "metadata": {},
   "outputs": [],
   "source": [
    "import pandas as pd\n",
    "import networkx as nx\n",
    "import matplotlib.pyplot as plt\n",
    "import community\n",
    "import numpy as np\n",
    "import warnings\n",
    "warnings.filterwarnings('ignore')\n",
    "\n",
    "%matplotlib inline\n",
    "\n",
    "df = pd.read_csv(\"data/redteam.txt\")\n",
    "\n",
    "G = nx.from_pandas_edgelist(df, 'src', 'dst', ['user@domain', 'time'])"
   ]
  },
  {
   "cell_type": "markdown",
   "metadata": {},
   "source": [
    "We are going to play with some network analysis features that may provide us with some general knowledge about our dataset. First, lets just take a look at our dataset. We will just have fun pulling nodes ofrom the network."
   ]
  },
  {
   "cell_type": "code",
   "execution_count": 2,
   "metadata": {},
   "outputs": [
    {
     "data": {
      "text/plain": [
       "('C17693', 'C2519', {'user@domain': 'U342@DOM1', 'time': 2301831})"
      ]
     },
     "execution_count": 2,
     "metadata": {},
     "output_type": "execute_result"
    }
   ],
   "source": [
    "list(G.edges(data=True))[16]"
   ]
  },
  {
   "cell_type": "code",
   "execution_count": 3,
   "metadata": {},
   "outputs": [
    {
     "data": {
      "text/plain": [
       "('C17693', 'C1014', {'user@domain': 'U995@DOM1', 'time': 2303870})"
      ]
     },
     "execution_count": 3,
     "metadata": {},
     "output_type": "execute_result"
    }
   ],
   "source": [
    "list(G.edges(data=True))[30]"
   ]
  },
  {
   "cell_type": "markdown",
   "metadata": {},
   "source": [
    "### Finding the most important node i.e computer in this network\n",
    "\n",
    "Network Science offers us many different metrics to measure the importance of a node in a network as we saw in the first part of the tutorial. Note that there is no \"correct\" way of calculating the most important node in a network, every metric has a different meaning.\n",
    "\n",
    "First, let's measure the importance of a node in a network by looking at the number of neighbors it has, that is, the number of nodes it is connected to. For example, an influential account on Twitter, where the follower-followee relationship forms the network, is an account which has a high number of followers. This measure of importance is called degree centrality.\n",
    "\n",
    "Using this measure, let's extract the top ten important computers from the network."
   ]
  },
  {
   "cell_type": "code",
   "execution_count": 4,
   "metadata": {},
   "outputs": [],
   "source": [
    "deg_cen = nx.degree_centrality(G)"
   ]
  },
  {
   "cell_type": "code",
   "execution_count": 5,
   "metadata": {},
   "outputs": [
    {
     "data": {
      "text/plain": [
       "[('C17693', 0.9736842105263157),\n",
       " ('C19932', 0.02631578947368421),\n",
       " ('C457', 0.009868421052631578),\n",
       " ('C22409', 0.009868421052631578),\n",
       " ('C529', 0.006578947368421052),\n",
       " ('C754', 0.006578947368421052),\n",
       " ('C586', 0.006578947368421052),\n",
       " ('C467', 0.006578947368421052),\n",
       " ('C625', 0.006578947368421052),\n",
       " ('C1003', 0.003289473684210526)]"
      ]
     },
     "execution_count": 5,
     "metadata": {},
     "output_type": "execute_result"
    }
   ],
   "source": [
    "sorted(deg_cen.items(), key=lambda x:x[1], reverse=True)[0:10]"
   ]
  },
  {
   "cell_type": "code",
   "execution_count": 97,
   "metadata": {},
   "outputs": [
    {
     "data": {
      "image/png": "[encoded data removed]",
      "text/plain": [
       "<Figure size 432x288 with 1 Axes>"
      ]
     },
     "metadata": {
      "needs_background": "light"
     },
     "output_type": "display_data"
    }
   ],
   "source": [
    "# Plot a histogram of degree centrality\n",
    "plt.hist(list(nx.degree_centrality(G).values()))\n",
    "plt.show()"
   ]
  },
  {
   "cell_type": "code",
   "execution_count": 98,
   "metadata": {},
   "outputs": [
    {
     "data": {
      "image/png": "[encoded data removed]",
      "text/plain": [
       "<Figure size 432x288 with 1 Axes>"
      ]
     },
     "metadata": {
      "needs_background": "light"
     },
     "output_type": "display_data"
    }
   ],
   "source": [
    "d = {}\n",
    "for i, j in dict(nx.degree(G)).items():\n",
    "    if j in d:\n",
    "        d[j] += 1\n",
    "    else:\n",
    "        d[j] = 1\n",
    "x = np.log2(list((d.keys())))\n",
    "y = np.log2(list(d.values()))\n",
    "plt.scatter(x, y, alpha=0.9)\n",
    "plt.show()"
   ]
  },
  {
   "cell_type": "markdown",
   "metadata": {},
   "source": [
    "Let's do this for betweeness centrality and check if this makes any difference. Betweeness centrality is a measure of centrality in a graph based on the number of shortest paths. For every pair of nodes in a connected graph, there exists at least one shortest path between the nodes such that either the number of edges that the path passess through is minimized."
   ]
  },
  {
   "cell_type": "code",
   "execution_count": 99,
   "metadata": {},
   "outputs": [
    {
     "data": {
      "text/plain": [
       "[('C17693', 0.9859012217011176),\n",
       " ('C19932', 0.02394186787099774),\n",
       " ('C457', 0.011728475479126888),\n",
       " ('C529', 0.007411267442533744),\n",
       " ('C586', 0.007411267442533744),\n",
       " ('C625', 0.007411267442533744),\n",
       " ('C754', 0.004243022986509202),\n",
       " ('C22409', 0.0021857448902785066),\n",
       " ('C467', 7.418505008395576e-05),\n",
       " ('C1003', 0.0)]"
      ]
     },
     "execution_count": 99,
     "metadata": {},
     "output_type": "execute_result"
    }
   ],
   "source": [
    "# First check unweighted, just the structure\n",
    "\n",
    "sorted(nx.betweenness_centrality(G).items(), key=lambda x:x[1], reverse=True)[0:10]"
   ]
  },
  {
   "cell_type": "markdown",
   "metadata": {},
   "source": [
    "### PageRank\n",
    "The billion dollar algorithm, PageRank works by counting the number and quality of links to a page to determine a rough estimate of how important the website is. The underlying assumption is that more important websites are likely to receive more links from other websites."
   ]
  },
  {
   "cell_type": "code",
   "execution_count": 36,
   "metadata": {},
   "outputs": [
    {
     "data": {
      "text/plain": [
       "[('C17693', 0.4425539799142401),\n",
       " ('C19932', 0.010639292720342084),\n",
       " ('C22409', 0.0040508567406953265),\n",
       " ('C457', 0.004040818450878313),\n",
       " ('C1493', 0.003278688524590145),\n",
       " ('C18025', 0.003278688524590144),\n",
       " ('C754', 0.002910393599341963),\n",
       " ('C529', 0.0028930757076813043),\n",
       " ('C586', 0.0028930757076813043),\n",
       " ('C625', 0.0028930757076813043)]"
      ]
     },
     "execution_count": 36,
     "metadata": {},
     "output_type": "execute_result"
    }
   ],
   "source": [
    "# by default weight attribute in pagerank is weight, so we use weight=None to find the unweighted results\n",
    "sorted(nx.pagerank_numpy(G, weight=None).items(), key=lambda x:x[1], reverse=True)[0:10]"
   ]
  },
  {
   "cell_type": "markdown",
   "metadata": {},
   "source": [
    "## HITS algorithm\n",
    "\n",
    "Hyperlink-Induced Topic Search (HITS) is a link analysis algorithm that rates web pages. The idea is that hubs and authorities stemmed from a particular insight into the creation of web pages when the Internet was originally forming; that is, certain wbe pages, known as hubs serve as large directories that were not actually auhtoritative in the information that they held, but they were used as compilations of broad catalog of information that led users direct to other authoritative pages. In other words, a good hub represented a page that pointed to many other pages, and a good authority represted a page that was linked by many different hubs."
   ]
  },
  {
   "cell_type": "code",
   "execution_count": 117,
   "metadata": {},
   "outputs": [
    {
     "data": {
      "text/plain": [
       "(array([304.,   0.,   0.,   0.,   0.,   0.,   0.,   0.,   0.,   1.]),\n",
       " array([8.29601990e-21, 4.89786492e-02, 9.79572985e-02, 1.46935948e-01,\n",
       "        1.95914597e-01, 2.44893246e-01, 2.93871895e-01, 3.42850545e-01,\n",
       "        3.91829194e-01, 4.40807843e-01, 4.89786492e-01]),\n",
       " <a list of 10 Patch objects>)"
      ]
     },
     "execution_count": 117,
     "metadata": {},
     "output_type": "execute_result"
    },
    {
     "data": {
      "image/png": "[encoded data removed]",
      "text/plain": [
       "<Figure size 432x288 with 1 Axes>"
      ]
     },
     "metadata": {
      "needs_background": "light"
     },
     "output_type": "display_data"
    }
   ],
   "source": [
    "hub, authority = nx.hits(G)\n",
    "hub_values = hub.values()\n",
    "auth_values = authority.values()\n",
    "plt.hist(hub_values, 10, facecolor='blue', alpha=0.85)\n",
    "plt.hist(auth_values, 10, facecolor='red', alpha=0.15)"
   ]
  },
  {
   "cell_type": "markdown",
   "metadata": {},
   "source": [
    "Let's look at the evolution of degree centrality over time. This is just another method to evaluate our data. We can see the change in degree centrality. We can assume our node with a higher degree centrality will pop up more often overtime and we will see various jumps in this data."
   ]
  },
  {
   "cell_type": "code",
   "execution_count": 118,
   "metadata": {},
   "outputs": [],
   "source": [
    "evol = nx.degree_centrality(G)\n",
    "def g_deg_cent(node):\n",
    "    for key, value in evol.items():\n",
    "        if key == node:\n",
    "            return value"
   ]
  },
  {
   "cell_type": "code",
   "execution_count": 119,
   "metadata": {},
   "outputs": [],
   "source": [
    "df['src_cent'] = df['src'].apply(g_deg_cent)\n",
    "df['dst_cent'] = df['dst'].apply(g_deg_cent)"
   ]
  },
  {
   "cell_type": "code",
   "execution_count": 120,
   "metadata": {},
   "outputs": [
    {
     "data": {
      "text/plain": [
       "Text(0, 0.5, 'Degree Centrality')"
      ]
     },
     "execution_count": 120,
     "metadata": {},
     "output_type": "execute_result"
    },
    {
     "data": {
      "image/png": "[encoded data removed]",
      "text/plain": [
       "<Figure size 432x288 with 1 Axes>"
      ]
     },
     "metadata": {
      "needs_background": "light"
     },
     "output_type": "display_data"
    }
   ],
   "source": [
    "src = df['src_cent']\n",
    "dst = df['dst_cent']\n",
    "tm = df['time']\n",
    "plt.plot(tm, src)\n",
    "plt.plot(tm, dst)\n",
    "plt.legend(['SRC Deg Centrality', 'DST Deg Centrality'], loc='upper right')\n",
    "plt.title('Measure of Degree Centrality Over Time')\n",
    "plt.xlabel('Time')\n",
    "plt.ylabel('Degree Centrality')"
   ]
  },
  {
   "cell_type": "markdown",
   "metadata": {},
   "source": [
    "### Exercise 4\n",
    "\n",
    "Build your own time-series graph measuring the pagerank or another measurement of nodes over time"
   ]
  },
  {
   "cell_type": "markdown",
   "metadata": {
    "slideshow": {
     "slide_type": "notes"
    }
   },
   "source": [
    "These slides/demos are based on concepts from: https://github.com/ericmjl/Network-Analysis-Made-Simple."
   ]
  }
 ],
 "metadata": {
  "kernelspec": {
   "display_name": "Python 3",
   "language": "python",
   "name": "python3"
  },
  "language_info": {
   "codemirror_mode": {
    "name": "ipython",
    "version": 3
   },
   "file_extension": ".py",
   "mimetype": "text/x-python",
   "name": "python",
   "nbconvert_exporter": "python",
   "pygments_lexer": "ipython3",
   "version": "3.8.10"
  },
  "widgets": {
   "state": {
    "0d498d21f57d48bfa91d77419839a53b": {
     "views": [
      {
       "cell_index": 50
      }
     ]
    },
    "b41dd22170f8499685480d24cc771566": {
     "views": [
      {
       "cell_index": 47
      }
     ]
    },
    "c36f55f7ddc8463ebaca4a35fd8eafe6": {
     "views": [
      {
       "cell_index": 41
      }
     ]
    }
   },
   "version": "1.2.0"
  }
 },
 "nbformat": 4,
 "nbformat_minor": 2
}
