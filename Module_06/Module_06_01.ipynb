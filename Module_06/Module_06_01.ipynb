{
 "cells": [
  {
   "cell_type": "markdown",
   "metadata": {
    "slideshow": {
     "slide_type": "slide"
    }
   },
   "source": [
    "# Graph Visualizations i.e. Network Analysis\n"
   ]
  },
  {
   "cell_type": "markdown",
   "metadata": {
    "slideshow": {
     "slide_type": "slide"
    }
   },
   "source": [
    "Networks, a.k.a graphs are useful modelling tool to model complex relational problems.\n",
    "\n",
    "Networks are comprised of two main entities:\n",
    "* Nodes: commonly represented as circles. In the academic literature, nodes are also known as \"vertices\"\n",
    "* Edges: commonly represented as lines between circles\n",
    "\n",
    "Edges denotes relationships between the nodes.\n",
    "\n",
    "In a network, if two nodes are joined together by an edge, then they are neighbors of one another.\n",
    "\n",
    "There are generally two types of networks - directed and undirected. In undirected networks, edges do not have a directionality associated with them. In directed networks, they do.\n"
   ]
  },
  {
   "cell_type": "markdown",
   "metadata": {
    "slideshow": {
     "slide_type": "slide"
    }
   },
   "source": [
    "## Examples of networks\n",
    "* Undirected network\n",
    "    * Facebook's network: Individuals are nodes, edges are drawn between individuals who are FB friends with one another\n",
    "* Directed Network\n",
    "    * Air traffic network: Airports are nodes, flights between airports are the edges"
   ]
  },
  {
   "cell_type": "markdown",
   "metadata": {
    "slideshow": {
     "slide_type": "slide"
    }
   },
   "source": [
    "# Network Analysis & Networkx"
   ]
  },
  {
   "cell_type": "markdown",
   "metadata": {
    "slideshow": {
     "slide_type": "slide"
    }
   },
   "source": [
    "## Data Representation\n",
    "\n",
    "In the `networkx` implementation, graph objects store their data in dictionaries. \n",
    "\n",
    "Nodes are part of the attribute `Graph.node`, which is a dictionary where the key is the node ID and the values are a dictionary of attributes. \n",
    "\n",
    "Edges are part of the attribute `Graph.edge`, which is a nested dictionary. Data are accessed as such: `G.edge[node1, node2]['attr_name']`.\n",
    "\n",
    "Because of the dictionary implementation of the graph, any hashable object can be a node. This means strings and tuples, but not lists and sets."
   ]
  },
  {
   "cell_type": "markdown",
   "metadata": {},
   "source": [
    "## Dataset\n",
    "\n",
    "https://csr.lanl.gov/data/cyber1/\n",
    "\n",
    "\n",
    "This data set represents 58 consecutive days of de-identified event data collected from five sources within Los Alamos National Laboratory’s corporate, internal computer network.\n",
    "\n",
    "The data sources include Windows-based authentication events from both individual computers and centralized Active Directory domain controller servers; process start and stop events from individual Windows computers; Domain Name Service (DNS) lookups as collected on internal DNS servers; network flow data as collected on at several key router locations; and a set of well-defined red teaming events that present bad behavior within the 58 days. In total, the data set is approximately 12 gigabytes compressed across the five data elements and presents 1,648,275,307 events in total for 12,425 users, 17,684 computers, and 62,974 processes.\n",
    "\n",
    "Specific users that are well known system related (SYSTEM, Local Service) were not de-identified though any well-known administrators account were still de-identified. In the network flow data, well-known ports (e.g. 80, 443, etc) were not de-identified. All other users, computers, process, ports, times, and other details were de-identified as a unified set across all the data elements (e.g. U1 is the same U1 in all of the data). The specific timeframe used is not disclosed for security purposes. In addition, no data that allows association outside of LANL’s network is included. All data starts with a time epoch of 1 using a time resolution of 1 second. In the authentication data, failed authentication events are only included for users that had a successful authentication event somewhere within the data set.\n",
    "\n",
    "We specificall are looking at the redteam dataset. \n",
    "This data presents specific events taken from the authentication data that present known redteam compromise events. These may be used as ground truth of bad behavior that is different from normal user and computer activity. Each event is on a separate line in the form of \"time,user@domain,source computer,destination computer\" and presents a compromise event at the given time. The values are comma delimited."
   ]
  },
  {
   "cell_type": "markdown",
   "metadata": {
    "slideshow": {
     "slide_type": "slide"
    }
   },
   "source": [
    "## Load Data"
   ]
  },
  {
   "cell_type": "code",
   "execution_count": 2,
   "metadata": {
    "slideshow": {
     "slide_type": "subslide"
    }
   },
   "outputs": [],
   "source": [
    "%matplotlib inline\n",
    "\n",
    "import pandas as pd\n",
    "import networkx as nx\n",
    "\n",
    "\n",
    "df = pd.read_csv(\"data/redteam.txt\")\n",
    "\n",
    "G = nx.from_pandas_edgelist(df, 'src', 'dst')"
   ]
  },
  {
   "cell_type": "markdown",
   "metadata": {
    "slideshow": {
     "slide_type": "slide"
    }
   },
   "source": [
    "## Basic Network Statistics\n",
    "\n",
    "Let's first understand how the network is represented."
   ]
  },
  {
   "cell_type": "code",
   "execution_count": 3,
   "metadata": {
    "slideshow": {
     "slide_type": "subslide"
    }
   },
   "outputs": [
    {
     "data": {
      "text/plain": [
       "['C17693',\n",
       " 'C1003',\n",
       " 'C305',\n",
       " 'C728',\n",
       " 'C1173',\n",
       " 'C294',\n",
       " 'C5693',\n",
       " 'C152',\n",
       " 'C2341',\n",
       " 'C332',\n",
       " 'C4280',\n",
       " 'C18025',\n",
       " 'C1493',\n",
       " 'C504',\n",
       " 'C148',\n",
       " 'C231',\n",
       " 'C721',\n",
       " 'C1567',\n",
       " 'C19932',\n",
       " 'C612',\n",
       " 'C457',\n",
       " 'C17600',\n",
       " 'C2519',\n",
       " 'C1275',\n",
       " 'C1065',\n",
       " 'C2669',\n",
       " 'C529',\n",
       " 'C395',\n",
       " 'C3153',\n",
       " 'C1610',\n",
       " 'C3521',\n",
       " 'C1124',\n",
       " 'C3199',\n",
       " 'C11727',\n",
       " 'C754',\n",
       " 'C126',\n",
       " 'C9945',\n",
       " 'C1448',\n",
       " 'C1014',\n",
       " 'C20819',\n",
       " 'C18626',\n",
       " 'C1222',\n",
       " 'C89',\n",
       " 'C1484',\n",
       " 'C8490',\n",
       " 'C3601',\n",
       " 'C1784',\n",
       " 'C11194',\n",
       " 'C10577',\n",
       " 'C18872',\n",
       " 'C2597',\n",
       " 'C2609',\n",
       " 'C2849',\n",
       " 'C3422',\n",
       " 'C42',\n",
       " 'C92',\n",
       " 'C16088',\n",
       " 'C886',\n",
       " 'C10817',\n",
       " 'C15232',\n",
       " 'C801',\n",
       " 'C1015',\n",
       " 'C359',\n",
       " 'C21963',\n",
       " 'C1268',\n",
       " 'C353',\n",
       " 'C21814',\n",
       " 'C10005',\n",
       " 'C20966',\n",
       " 'C853',\n",
       " 'C923',\n",
       " 'C11039',\n",
       " 'C1616',\n",
       " 'C583',\n",
       " 'C346',\n",
       " 'C20203',\n",
       " 'C12448',\n",
       " 'C1500',\n",
       " 'C1479',\n",
       " 'C3388',\n",
       " 'C1461',\n",
       " 'C1119',\n",
       " 'C19156',\n",
       " 'C18113',\n",
       " 'C19803',\n",
       " 'C17425',\n",
       " 'C9692',\n",
       " 'C7131',\n",
       " 'C8172',\n",
       " 'C7503',\n",
       " 'C7597',\n",
       " 'C2578',\n",
       " 'C90',\n",
       " 'C1477',\n",
       " 'C4845',\n",
       " 'C3292',\n",
       " 'C2914',\n",
       " 'C19356',\n",
       " 'C798',\n",
       " 'C302',\n",
       " 'C1125',\n",
       " 'C3437',\n",
       " 'C2648',\n",
       " 'C6513',\n",
       " 'C15197',\n",
       " 'C17806',\n",
       " 'C706',\n",
       " 'C16467',\n",
       " 'C6487',\n",
       " 'C113',\n",
       " 'C2816',\n",
       " 'C458',\n",
       " 'C21664',\n",
       " 'C2085',\n",
       " 'C3586',\n",
       " 'C19444',\n",
       " 'C917',\n",
       " 'C12682',\n",
       " 'C2091',\n",
       " 'C1506',\n",
       " 'C12512',\n",
       " 'C882',\n",
       " 'C881',\n",
       " 'C2388',\n",
       " 'C46',\n",
       " 'C883',\n",
       " 'C1191',\n",
       " 'C5653',\n",
       " 'C633',\n",
       " 'C1183',\n",
       " 'C2844',\n",
       " 'C1776',\n",
       " 'C464',\n",
       " 'C5453',\n",
       " 'C4161',\n",
       " 'C513',\n",
       " 'C1',\n",
       " 'C1215',\n",
       " 'C2012',\n",
       " 'C3455',\n",
       " 'C4159',\n",
       " 'C1006',\n",
       " 'C1022',\n",
       " 'C1737',\n",
       " 'C1710',\n",
       " 'C3435',\n",
       " 'C61',\n",
       " 'C307',\n",
       " 'C3699',\n",
       " 'C3755',\n",
       " 'C492',\n",
       " 'C1797',\n",
       " 'C2944',\n",
       " 'C17636',\n",
       " 'C12320',\n",
       " 'C18190',\n",
       " 'C21349',\n",
       " 'C2196',\n",
       " 'C17860',\n",
       " 'C306',\n",
       " 'C17776',\n",
       " 'C1944',\n",
       " 'C3173',\n",
       " 'C2058',\n",
       " 'C636',\n",
       " 'C2846',\n",
       " 'C1732',\n",
       " 'C1028',\n",
       " 'C7464',\n",
       " 'C1823',\n",
       " 'C13713',\n",
       " 'C779',\n",
       " 'C3305',\n",
       " 'C20455',\n",
       " 'C1952',\n",
       " 'C11178',\n",
       " 'C1415',\n",
       " 'C765',\n",
       " 'C7782',\n",
       " 'C21946',\n",
       " 'C143',\n",
       " 'C742',\n",
       " 'C1626',\n",
       " 'C1555',\n",
       " 'C1089',\n",
       " 'C2057',\n",
       " 'C1503',\n",
       " 'C400',\n",
       " 'C1549',\n",
       " 'C398',\n",
       " 'C2079',\n",
       " 'C1936',\n",
       " 'C1611',\n",
       " 'C3758',\n",
       " 'C12116',\n",
       " 'C1438',\n",
       " 'C1966',\n",
       " 'C22409',\n",
       " 'C3610',\n",
       " 'C1482',\n",
       " 'C366',\n",
       " 'C3813',\n",
       " 'C4610',\n",
       " 'C626',\n",
       " 'C368',\n",
       " 'C430',\n",
       " 'C3288',\n",
       " 'C849',\n",
       " 'C102',\n",
       " 'C1042',\n",
       " 'C22275',\n",
       " 'C1964',\n",
       " 'C1961',\n",
       " 'C423',\n",
       " 'C3380',\n",
       " 'C3635',\n",
       " 'C452',\n",
       " 'C22174',\n",
       " 'C5439',\n",
       " 'C4106',\n",
       " 'C5343',\n",
       " 'C2013',\n",
       " 'C486',\n",
       " 'C1570',\n",
       " 'C2877',\n",
       " 'C3019',\n",
       " 'C115',\n",
       " 'C1906',\n",
       " 'C22176',\n",
       " 'C553',\n",
       " 'C3888',\n",
       " 'C1085',\n",
       " 'C243',\n",
       " 'C4403',\n",
       " 'C5111',\n",
       " 'C506',\n",
       " 'C429',\n",
       " 'C16401',\n",
       " 'C1096',\n",
       " 'C17640',\n",
       " 'C2254',\n",
       " 'C8209',\n",
       " 'C1581',\n",
       " 'C586',\n",
       " 'C3629',\n",
       " 'C1224',\n",
       " 'C467',\n",
       " 'C3249',\n",
       " 'C1432',\n",
       " 'C965',\n",
       " 'C246',\n",
       " 'C477',\n",
       " 'C687',\n",
       " 'C1319',\n",
       " 'C3303',\n",
       " 'C5618',\n",
       " 'C2604',\n",
       " 'C1382',\n",
       " 'C20677',\n",
       " 'C18464',\n",
       " 'C4773',\n",
       " 'C338',\n",
       " 'C1046',\n",
       " 'C3597',\n",
       " 'C78',\n",
       " 'C52',\n",
       " 'C1302',\n",
       " 'C1887',\n",
       " 'C625',\n",
       " 'C155',\n",
       " 'C3170',\n",
       " 'C10',\n",
       " 'C3037',\n",
       " 'C1509',\n",
       " 'C10405',\n",
       " 'C22766',\n",
       " 'C8751',\n",
       " 'C96',\n",
       " 'C385',\n",
       " 'C3491',\n",
       " 'C2378',\n",
       " 'C4934',\n",
       " 'C1810',\n",
       " 'C828',\n",
       " 'C1632',\n",
       " 'C9006',\n",
       " 'C528',\n",
       " 'C313',\n",
       " 'C19038',\n",
       " 'C16563',\n",
       " 'C4554',\n",
       " 'C21919',\n",
       " 'C5030',\n",
       " 'C8585',\n",
       " 'C177',\n",
       " 'C685',\n",
       " 'C1980',\n",
       " 'C977',\n",
       " 'C1269',\n",
       " 'C15',\n",
       " 'C370',\n",
       " 'C791',\n",
       " 'C2725',\n",
       " 'C9723',\n",
       " 'C108']"
      ]
     },
     "execution_count": 3,
     "metadata": {},
     "output_type": "execute_result"
    }
   ],
   "source": [
    "# Who are represented in the network?\n",
    "list(G.nodes())"
   ]
  },
  {
   "cell_type": "markdown",
   "metadata": {
    "slideshow": {
     "slide_type": "subslide"
    }
   },
   "source": [
    "### Exercise 1\n",
    "\n",
    "Can you write a single line of code that returns the number of nodes in the graph?"
   ]
  },
  {
   "cell_type": "markdown",
   "metadata": {
    "slideshow": {
     "slide_type": "slide"
    }
   },
   "source": [
    "Let's now figure out who is connected to who in the network"
   ]
  },
  {
   "cell_type": "code",
   "execution_count": 4,
   "metadata": {
    "slideshow": {
     "slide_type": "slide"
    }
   },
   "outputs": [
    {
     "data": {
      "text/plain": [
       "[('C17693', 'C1003'),\n",
       " ('C17693', 'C305'),\n",
       " ('C17693', 'C728'),\n",
       " ('C17693', 'C1173'),\n",
       " ('C17693', 'C294'),\n",
       " ('C17693', 'C5693'),\n",
       " ('C17693', 'C152'),\n",
       " ('C17693', 'C2341'),\n",
       " ('C17693', 'C332'),\n",
       " ('C17693', 'C4280'),\n",
       " ('C17693', 'C504'),\n",
       " ('C17693', 'C148'),\n",
       " ('C17693', 'C231'),\n",
       " ('C17693', 'C721'),\n",
       " ('C17693', 'C1567'),\n",
       " ('C17693', 'C17600'),\n",
       " ('C17693', 'C2519'),\n",
       " ('C17693', 'C1275'),\n",
       " ('C17693', 'C2669'),\n",
       " ('C17693', 'C395'),\n",
       " ('C17693', 'C3153'),\n",
       " ('C17693', 'C1610'),\n",
       " ('C17693', 'C3521'),\n",
       " ('C17693', 'C1124'),\n",
       " ('C17693', 'C3199'),\n",
       " ('C17693', 'C11727'),\n",
       " ('C17693', 'C754'),\n",
       " ('C17693', 'C126'),\n",
       " ('C17693', 'C9945'),\n",
       " ('C17693', 'C1448'),\n",
       " ('C17693', 'C1014'),\n",
       " ('C17693', 'C20819'),\n",
       " ('C17693', 'C18626'),\n",
       " ('C17693', 'C1222'),\n",
       " ('C17693', 'C89'),\n",
       " ('C17693', 'C1484'),\n",
       " ('C17693', 'C8490'),\n",
       " ('C17693', 'C3601'),\n",
       " ('C17693', 'C1784'),\n",
       " ('C17693', 'C11194'),\n",
       " ('C17693', 'C10577'),\n",
       " ('C17693', 'C18872'),\n",
       " ('C17693', 'C2597'),\n",
       " ('C17693', 'C2609'),\n",
       " ('C17693', 'C2849'),\n",
       " ('C17693', 'C3422'),\n",
       " ('C17693', 'C42'),\n",
       " ('C17693', 'C92'),\n",
       " ('C17693', 'C16088'),\n",
       " ('C17693', 'C886'),\n",
       " ('C17693', 'C10817'),\n",
       " ('C17693', 'C15232'),\n",
       " ('C17693', 'C801'),\n",
       " ('C17693', 'C1015'),\n",
       " ('C17693', 'C359'),\n",
       " ('C17693', 'C21963'),\n",
       " ('C17693', 'C1268'),\n",
       " ('C17693', 'C353'),\n",
       " ('C17693', 'C21814'),\n",
       " ('C17693', 'C10005'),\n",
       " ('C17693', 'C20966'),\n",
       " ('C17693', 'C853'),\n",
       " ('C17693', 'C923'),\n",
       " ('C17693', 'C11039'),\n",
       " ('C17693', 'C1616'),\n",
       " ('C17693', 'C583'),\n",
       " ('C17693', 'C346'),\n",
       " ('C17693', 'C20203'),\n",
       " ('C17693', 'C12448'),\n",
       " ('C17693', 'C1500'),\n",
       " ('C17693', 'C1479'),\n",
       " ('C17693', 'C3388'),\n",
       " ('C17693', 'C1461'),\n",
       " ('C17693', 'C1119'),\n",
       " ('C17693', 'C19156'),\n",
       " ('C17693', 'C18113'),\n",
       " ('C17693', 'C19803'),\n",
       " ('C17693', 'C17425'),\n",
       " ('C17693', 'C9692'),\n",
       " ('C17693', 'C7131'),\n",
       " ('C17693', 'C8172'),\n",
       " ('C17693', 'C7503'),\n",
       " ('C17693', 'C7597'),\n",
       " ('C17693', 'C2578'),\n",
       " ('C17693', 'C90'),\n",
       " ('C17693', 'C1477'),\n",
       " ('C17693', 'C4845'),\n",
       " ('C17693', 'C3292'),\n",
       " ('C17693', 'C2914'),\n",
       " ('C17693', 'C19356'),\n",
       " ('C17693', 'C798'),\n",
       " ('C17693', 'C302'),\n",
       " ('C17693', 'C1125'),\n",
       " ('C17693', 'C3437'),\n",
       " ('C17693', 'C2648'),\n",
       " ('C17693', 'C6513'),\n",
       " ('C17693', 'C15197'),\n",
       " ('C17693', 'C17806'),\n",
       " ('C17693', 'C706'),\n",
       " ('C17693', 'C16467'),\n",
       " ('C17693', 'C6487'),\n",
       " ('C17693', 'C113'),\n",
       " ('C17693', 'C2816'),\n",
       " ('C17693', 'C458'),\n",
       " ('C17693', 'C21664'),\n",
       " ('C17693', 'C2085'),\n",
       " ('C17693', 'C3586'),\n",
       " ('C17693', 'C19444'),\n",
       " ('C17693', 'C917'),\n",
       " ('C17693', 'C12682'),\n",
       " ('C17693', 'C2091'),\n",
       " ('C17693', 'C1506'),\n",
       " ('C17693', 'C12512'),\n",
       " ('C17693', 'C882'),\n",
       " ('C17693', 'C881'),\n",
       " ('C17693', 'C2388'),\n",
       " ('C17693', 'C46'),\n",
       " ('C17693', 'C883'),\n",
       " ('C17693', 'C1191'),\n",
       " ('C17693', 'C5653'),\n",
       " ('C17693', 'C633'),\n",
       " ('C17693', 'C1183'),\n",
       " ('C17693', 'C2844'),\n",
       " ('C17693', 'C1776'),\n",
       " ('C17693', 'C464'),\n",
       " ('C17693', 'C5453'),\n",
       " ('C17693', 'C4161'),\n",
       " ('C17693', 'C513'),\n",
       " ('C17693', 'C1'),\n",
       " ('C17693', 'C1215'),\n",
       " ('C17693', 'C2012'),\n",
       " ('C17693', 'C3455'),\n",
       " ('C17693', 'C4159'),\n",
       " ('C17693', 'C1006'),\n",
       " ('C17693', 'C1022'),\n",
       " ('C17693', 'C1737'),\n",
       " ('C17693', 'C1710'),\n",
       " ('C17693', 'C3435'),\n",
       " ('C17693', 'C61'),\n",
       " ('C17693', 'C307'),\n",
       " ('C17693', 'C3699'),\n",
       " ('C17693', 'C3755'),\n",
       " ('C17693', 'C492'),\n",
       " ('C17693', 'C1797'),\n",
       " ('C17693', 'C2944'),\n",
       " ('C17693', 'C17636'),\n",
       " ('C17693', 'C12320'),\n",
       " ('C17693', 'C18190'),\n",
       " ('C17693', 'C21349'),\n",
       " ('C17693', 'C2196'),\n",
       " ('C17693', 'C17860'),\n",
       " ('C17693', 'C306'),\n",
       " ('C17693', 'C17776'),\n",
       " ('C17693', 'C1944'),\n",
       " ('C17693', 'C3173'),\n",
       " ('C17693', 'C2058'),\n",
       " ('C17693', 'C636'),\n",
       " ('C17693', 'C2846'),\n",
       " ('C17693', 'C1732'),\n",
       " ('C17693', 'C1028'),\n",
       " ('C17693', 'C7464'),\n",
       " ('C17693', 'C1823'),\n",
       " ('C17693', 'C13713'),\n",
       " ('C17693', 'C779'),\n",
       " ('C17693', 'C3305'),\n",
       " ('C17693', 'C20455'),\n",
       " ('C17693', 'C1952'),\n",
       " ('C17693', 'C11178'),\n",
       " ('C17693', 'C1415'),\n",
       " ('C17693', 'C765'),\n",
       " ('C17693', 'C7782'),\n",
       " ('C17693', 'C21946'),\n",
       " ('C17693', 'C143'),\n",
       " ('C17693', 'C742'),\n",
       " ('C17693', 'C1626'),\n",
       " ('C17693', 'C1555'),\n",
       " ('C17693', 'C1089'),\n",
       " ('C17693', 'C2057'),\n",
       " ('C17693', 'C1503'),\n",
       " ('C17693', 'C400'),\n",
       " ('C17693', 'C1549'),\n",
       " ('C17693', 'C398'),\n",
       " ('C17693', 'C2079'),\n",
       " ('C17693', 'C1936'),\n",
       " ('C17693', 'C1611'),\n",
       " ('C17693', 'C3758'),\n",
       " ('C17693', 'C12116'),\n",
       " ('C17693', 'C1438'),\n",
       " ('C17693', 'C1966'),\n",
       " ('C17693', 'C3610'),\n",
       " ('C17693', 'C1482'),\n",
       " ('C17693', 'C366'),\n",
       " ('C17693', 'C3813'),\n",
       " ('C17693', 'C4610'),\n",
       " ('C17693', 'C626'),\n",
       " ('C17693', 'C368'),\n",
       " ('C17693', 'C430'),\n",
       " ('C17693', 'C3288'),\n",
       " ('C17693', 'C849'),\n",
       " ('C17693', 'C102'),\n",
       " ('C17693', 'C1042'),\n",
       " ('C17693', 'C22275'),\n",
       " ('C17693', 'C1964'),\n",
       " ('C17693', 'C1961'),\n",
       " ('C17693', 'C423'),\n",
       " ('C17693', 'C3380'),\n",
       " ('C17693', 'C3635'),\n",
       " ('C17693', 'C452'),\n",
       " ('C17693', 'C22174'),\n",
       " ('C17693', 'C5439'),\n",
       " ('C17693', 'C4106'),\n",
       " ('C17693', 'C5343'),\n",
       " ('C17693', 'C2013'),\n",
       " ('C17693', 'C486'),\n",
       " ('C17693', 'C1570'),\n",
       " ('C17693', 'C2877'),\n",
       " ('C17693', 'C3019'),\n",
       " ('C17693', 'C115'),\n",
       " ('C17693', 'C1906'),\n",
       " ('C17693', 'C22176'),\n",
       " ('C17693', 'C553'),\n",
       " ('C17693', 'C3888'),\n",
       " ('C17693', 'C1085'),\n",
       " ('C17693', 'C243'),\n",
       " ('C17693', 'C4403'),\n",
       " ('C17693', 'C5111'),\n",
       " ('C17693', 'C506'),\n",
       " ('C17693', 'C429'),\n",
       " ('C17693', 'C16401'),\n",
       " ('C17693', 'C1096'),\n",
       " ('C17693', 'C17640'),\n",
       " ('C17693', 'C2254'),\n",
       " ('C17693', 'C8209'),\n",
       " ('C17693', 'C1581'),\n",
       " ('C17693', 'C3629'),\n",
       " ('C17693', 'C1224'),\n",
       " ('C17693', 'C3249'),\n",
       " ('C17693', 'C1432'),\n",
       " ('C17693', 'C965'),\n",
       " ('C17693', 'C246'),\n",
       " ('C17693', 'C477'),\n",
       " ('C17693', 'C687'),\n",
       " ('C17693', 'C1319'),\n",
       " ('C17693', 'C3303'),\n",
       " ('C17693', 'C5618'),\n",
       " ('C17693', 'C2604'),\n",
       " ('C17693', 'C1382'),\n",
       " ('C17693', 'C20677'),\n",
       " ('C17693', 'C18464'),\n",
       " ('C17693', 'C4773'),\n",
       " ('C17693', 'C338'),\n",
       " ('C17693', 'C1046'),\n",
       " ('C17693', 'C3597'),\n",
       " ('C17693', 'C78'),\n",
       " ('C17693', 'C52'),\n",
       " ('C17693', 'C1302'),\n",
       " ('C17693', 'C1887'),\n",
       " ('C17693', 'C155'),\n",
       " ('C17693', 'C3170'),\n",
       " ('C17693', 'C10'),\n",
       " ('C17693', 'C3037'),\n",
       " ('C17693', 'C1509'),\n",
       " ('C17693', 'C10405'),\n",
       " ('C17693', 'C22766'),\n",
       " ('C17693', 'C8751'),\n",
       " ('C17693', 'C96'),\n",
       " ('C17693', 'C385'),\n",
       " ('C17693', 'C3491'),\n",
       " ('C17693', 'C2378'),\n",
       " ('C17693', 'C4934'),\n",
       " ('C17693', 'C1810'),\n",
       " ('C17693', 'C828'),\n",
       " ('C17693', 'C1632'),\n",
       " ('C17693', 'C9006'),\n",
       " ('C17693', 'C457'),\n",
       " ('C17693', 'C586'),\n",
       " ('C17693', 'C529'),\n",
       " ('C17693', 'C528'),\n",
       " ('C17693', 'C625'),\n",
       " ('C17693', 'C313'),\n",
       " ('C17693', 'C19038'),\n",
       " ('C17693', 'C16563'),\n",
       " ('C17693', 'C4554'),\n",
       " ('C17693', 'C21919'),\n",
       " ('C17693', 'C5030'),\n",
       " ('C17693', 'C8585'),\n",
       " ('C17693', 'C177'),\n",
       " ('C17693', 'C685'),\n",
       " ('C17693', 'C1980'),\n",
       " ('C17693', 'C977'),\n",
       " ('C17693', 'C1269'),\n",
       " ('C17693', 'C15'),\n",
       " ('C17693', 'C370'),\n",
       " ('C17693', 'C791'),\n",
       " ('C17693', 'C2725'),\n",
       " ('C17693', 'C9723'),\n",
       " ('C18025', 'C1493'),\n",
       " ('C19932', 'C612'),\n",
       " ('C19932', 'C457'),\n",
       " ('C19932', 'C1065'),\n",
       " ('C19932', 'C529'),\n",
       " ('C19932', 'C586'),\n",
       " ('C19932', 'C625'),\n",
       " ('C19932', 'C467'),\n",
       " ('C19932', 'C108'),\n",
       " ('C457', 'C22409'),\n",
       " ('C754', 'C22409'),\n",
       " ('C22409', 'C467')]"
      ]
     },
     "execution_count": 4,
     "metadata": {},
     "output_type": "execute_result"
    }
   ],
   "source": [
    "# Who is connected to who in the network?\n",
    "list(G.edges())"
   ]
  },
  {
   "cell_type": "markdown",
   "metadata": {
    "slideshow": {
     "slide_type": "subslide"
    }
   },
   "source": [
    "### Exercise 2\n",
    "\n",
    "Can you write a single line of code that returns the number of relationships represented?"
   ]
  },
  {
   "cell_type": "markdown",
   "metadata": {
    "slideshow": {
     "slide_type": "slide"
    }
   },
   "source": [
    "## Concept\n",
    "\n",
    "A **network**, more technically known as a **graph**, is comprised of:\n",
    "\n",
    "- a set of nodes\n",
    "- joined by a set of edges\n",
    "\n",
    "They can be represented as two lists:\n",
    "\n",
    "1. A **node list**: a list of 2-tuples where the first element of each tuple is the representation of the node, and the second element is a dictionary of metadata associated with the node.\n",
    "2. An **edge list**: a list of 3-tuples where the first two elements are the nodes that are connected together, and the third element is a dictionary of metadata associated with the edge."
   ]
  },
  {
   "cell_type": "code",
   "execution_count": 5,
   "metadata": {
    "slideshow": {
     "slide_type": "subslide"
    }
   },
   "outputs": [
    {
     "data": {
      "text/plain": [
       "['C17693', 'C1003', 'C305', 'C728', 'C1173']"
      ]
     },
     "execution_count": 5,
     "metadata": {},
     "output_type": "execute_result"
    }
   ],
   "source": [
    "# Let's get a list of nodes\n",
    "list(G.nodes(data=False))[0:5]"
   ]
  },
  {
   "cell_type": "code",
   "execution_count": 6,
   "metadata": {},
   "outputs": [
    {
     "data": {
      "text/plain": [
       "[('C17693', 'C1003'),\n",
       " ('C17693', 'C305'),\n",
       " ('C17693', 'C728'),\n",
       " ('C17693', 'C1173'),\n",
       " ('C17693', 'C294')]"
      ]
     },
     "execution_count": 6,
     "metadata": {},
     "output_type": "execute_result"
    }
   ],
   "source": [
    "list(G.edges(data=False))[0:5]"
   ]
  },
  {
   "cell_type": "markdown",
   "metadata": {},
   "source": [
    "## Drawing Graphs\n",
    "\n",
    "As illustrated above, we can draw graphs using the `nx.draw()` function. The most popular format for drawing graphs is the **node-link diagram**.\n",
    "\n",
    "Nodes are circles and lines are edges. Nodes more tightly connected with one another are clustered together. Large graphs end up looking like hairballs."
   ]
  },
  {
   "cell_type": "code",
   "execution_count": 7,
   "metadata": {},
   "outputs": [
    {
     "data": {
      "image/png": "[encoded data removed]",
      "text/plain": [
       "<Figure size 432x288 with 1 Axes>"
      ]
     },
     "metadata": {},
     "output_type": "display_data"
    }
   ],
   "source": [
    "nx.draw(G)"
   ]
  },
  {
   "cell_type": "markdown",
   "metadata": {},
   "source": [
    "If the network is small enough to visualize, and the node labels are small enough to fit in a circle, then you can use the `with_labels=True` argument."
   ]
  },
  {
   "cell_type": "code",
   "execution_count": 8,
   "metadata": {},
   "outputs": [
    {
     "data": {
      "image/png": "[encoded data removed]",
      "text/plain": [
       "<Figure size 432x288 with 1 Axes>"
      ]
     },
     "metadata": {},
     "output_type": "display_data"
    }
   ],
   "source": [
    "nx.draw(G, with_labels=True)"
   ]
  },
  {
   "cell_type": "markdown",
   "metadata": {},
   "source": [
    "However, note that if the number of nodes in the graph gets really large, node-link diagrams can begin to look like massive hairballs. This is undesirable for graph visualization."
   ]
  },
  {
   "cell_type": "markdown",
   "metadata": {},
   "source": [
    "## Hubs: How do we evaluate the importance of some individuals in a network?\n",
    "\n",
    "Within a social network, there will be certain individuals which perform certain important functions. For example, there may be hyper-connected individuals who are connected to many, many more people. They would be of use in the spreading of information. Alternatively, if this were a disease contact network, identifying them would be useful in stopping the spread of diseases. How would one identify these people?\n",
    "\n",
    "### Approach 1: Neighbors\n",
    "One way we could compute this is to find out the number of people an individual is conencted to. NetworkX let's us do this by giving us a G.neighbors(node) function."
   ]
  },
  {
   "cell_type": "code",
   "execution_count": 8,
   "metadata": {},
   "outputs": [
    {
     "data": {
      "text/plain": [
       "1"
      ]
     },
     "execution_count": 8,
     "metadata": {},
     "output_type": "execute_result"
    }
   ],
   "source": [
    "# Let's find out the number of neighbors that individual #7 has.\n",
    "len(list(G.neighbors('C1')))"
   ]
  },
  {
   "cell_type": "markdown",
   "metadata": {},
   "source": [
    "#### Exercise 3\n",
    "\n",
    "Can you create a ranked list of the importance of each individual, based on the number of neighbors they have? (3 min.)\n",
    "\n",
    "Hint: One suggested output would be a list of tuples, where the first element in each tuple is the node ID (an integer number), and the second element is the number of neighbors that it has.\n",
    "\n",
    "Hint: Python's sorted(iterable, key=lambda x:...., reverse=True) function may be of help here."
   ]
  },
  {
   "cell_type": "markdown",
   "metadata": {},
   "source": [
    "### Approach 2: Degree Centrality\n",
    "\n",
    "The number of other nodes that one node is connected to is a measure of its centrality. NetworkX implements a degree centrality, which is defined as the number of neighbors that a node has normalized to the number of individuals it could be connected to in the entire graph. This is accessed by using nx.degree_centrality(G)"
   ]
  },
  {
   "cell_type": "code",
   "execution_count": 9,
   "metadata": {},
   "outputs": [
    {
     "data": {
      "text/plain": [
       "[('C17693', 0.9736842105263157),\n",
       " ('C1003', 0.003289473684210526),\n",
       " ('C305', 0.003289473684210526),\n",
       " ('C728', 0.003289473684210526),\n",
       " ('C1173', 0.003289473684210526)]"
      ]
     },
     "execution_count": 9,
     "metadata": {},
     "output_type": "execute_result"
    }
   ],
   "source": [
    "# nx.degree_centrality(G)\n",
    "\n",
    "# Uncomment the next line to show a truncated version.\n",
    "list(nx.degree_centrality(G).items())[0:5]"
   ]
  },
  {
   "cell_type": "markdown",
   "metadata": {},
   "source": [
    "There are other measures of centrality, namely betweenness centrality, flow centrality and load centrality. You can take a look at their definitions on the NetworkX API docs and their cited references. You can also define your own measures if those don't fit your needs, but that is an advanced topic that won't be dealt with here."
   ]
  },
  {
   "cell_type": "markdown",
   "metadata": {},
   "source": [
    "These slides/demos are based on concepts from: https://github.com/ericmjl/Network-Analysis-Made-Simple."
   ]
  },
  {
   "cell_type": "code",
   "execution_count": null,
   "metadata": {},
   "outputs": [],
   "source": []
  }
 ],
 "metadata": {
  "kernelspec": {
   "display_name": "Python 3",
   "language": "python",
   "name": "python3"
  },
  "language_info": {
   "codemirror_mode": {
    "name": "ipython",
    "version": 3
   },
   "file_extension": ".py",
   "mimetype": "text/x-python",
   "name": "python",
   "nbconvert_exporter": "python",
   "pygments_lexer": "ipython3",
   "version": "3.8.10"
  },
  "widgets": {
   "state": {
    "0d498d21f57d48bfa91d77419839a53b": {
     "views": [
      {
       "cell_index": 50
      }
     ]
    },
    "b41dd22170f8499685480d24cc771566": {
     "views": [
      {
       "cell_index": 47
      }
     ]
    },
    "c36f55f7ddc8463ebaca4a35fd8eafe6": {
     "views": [
      {
       "cell_index": 41
      }
     ]
    }
   },
   "version": "1.2.0"
  }
 },
 "nbformat": 4,
 "nbformat_minor": 2
}
