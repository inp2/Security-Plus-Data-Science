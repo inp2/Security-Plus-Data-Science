{
 "cells": [
  {
   "cell_type": "markdown",
   "metadata": {},
   "source": [
    "# Introduction to Jupyter Notebook\n",
    "\n",
    "Jupyter Notebook is an interactive environment for writing and running code. The notebook is capable of running code in a wide range of langauges, however we will focus on Python.\n",
    "\n",
    "Jupyter Notebook is loved by most data scientist for many reasons:\n",
    "1. <b>All In One Place</b>: Combines code, rich text, images, videos, animations, mathematical equations, plots, maps, interactive figures and widges, and graphical user interfaces, into a single document.\n",
    "2. <b>Easy To Convert/Share</b>: Comes with nbconvert, which converts notebooks to other formats such as HTML or PDF.\n",
    "3. <b>Language Independent</b>: Possible to write in any language.\n",
    "4. <b>Stress-Free Reproducible Experiments</b>: Conduct efficient and reproducible interactive computing experiments with ease.\n",
    "5. <b>Effective Teaching/Learning Tool</b>\n",
    "6. <b>Interactive Code & Data Exploration</b>: Provide a user interface controls for exploring code and data interactively.\n",
    "\n",
    "Think of Jupyter as an advanced word processor. Take some time amd scroll through the lis tof commands from the command pallette, you can find it by checking out the small button with the keyboard icon (or `Ctrl + Shift + P`)\n",
    "\n",
    "There are two terms you should become familiar with: cells and kernels are key to understanding Jupyter.\n",
    "\n",
    "* Kernel is a computational engine that executes the code contained in a notebook document\n",
    "* Cell is a container for text to be displayed in th enotebook or code to be executed by the notebook's kernel"
   ]
  },
  {
   "cell_type": "markdown",
   "metadata": {},
   "source": [
    "### Cells\n",
    "\n",
    "* Code cell contains code to be executed in the kernel and display its output below\n",
    "* Markdown cell contains text formatted using Markdown and displays its output in-place when it is run\n",
    "\n",
    "Run a code cell user `Shift-Enter` or pressing the <button class='btn btn-default btn-xs'><i class=\"icon-step-forward fa fa-step-forward\"></i></button> button in the toolbar above: "
   ]
  },
  {
   "cell_type": "code",
   "execution_count": 4,
   "metadata": {},
   "outputs": [],
   "source": [
    "a = 15"
   ]
  },
  {
   "cell_type": "code",
   "execution_count": 5,
   "metadata": {},
   "outputs": [
    {
     "name": "stdout",
     "output_type": "stream",
     "text": [
      "15\n"
     ]
    }
   ],
   "source": [
    "print(a)"
   ]
  },
  {
   "cell_type": "markdown",
   "metadata": {},
   "source": [
    "click `Insert` and select `Insert Cell Below` to create a new code cell underneath"
   ]
  },
  {
   "cell_type": "markdown",
   "metadata": {},
   "source": [
    "### Keyboard Shortcuts:\n",
    "\n",
    "* `Alt-Enter` runs the current cell and inserts a new one below\n",
    "* `Ctrl-Enter` runs the current cell and enters command mode\n",
    "* Scroll up and down your cells with your `Up` and `Down` keys\n",
    "* Press `A` or `B` to insert a new cell above or below the active cell\n",
    "* `M` will transform the active cell to a Markdown cell\n",
    "* `Y` will set the active cell to a code cell\n",
    "* `D + D` (`D` twice) will delete the active cell\n",
    "* `Z` will undo cell deletion\n",
    "* Hold `Shift` and press `Up` or `Down` to select multiple cells at once\n",
    "    * With multiple cells selected, `Shift + M` will merge your selection\n",
    "* `Ctrl + Shift + -`, in edit mode, will split the active cell at the cursor\n",
    "* You can also click and `Shift + Click` in the margin to the left of your cells to select them\n",
    "\n",
    "To get an overview of functions which are available in command and in edit mode you can open up the overview of key shortcuts by using menu entry <em>Help</em> -> <em>Keyboard Shortcuts</em>"
   ]
  },
  {
   "cell_type": "markdown",
   "metadata": {},
   "source": [
    "### Managing the Kernel\n",
    "Code is run in a separate process called the kernel. The kernel can be interrupted or restarted. Try running the folowing cell and then hit the <button class='btn btn-default btn-xs'><i class='icon-stop fa fa-stop'></i></button> button in the toolbar above."
   ]
  },
  {
   "cell_type": "code",
   "execution_count": 7,
   "metadata": {},
   "outputs": [],
   "source": [
    "import time\n",
    "time.sleep(5)"
   ]
  },
  {
   "cell_type": "markdown",
   "metadata": {},
   "source": [
    "If the kernel dies you will be prompted to restart it. Here we call the low-level system libc.time routine with the wrong argument via ctypes to segfault the Python interpreter"
   ]
  },
  {
   "cell_type": "code",
   "execution_count": null,
   "metadata": {},
   "outputs": [],
   "source": [
    "import sys\n",
    "from ctypes import CDLL\n",
    "\n",
    "# This should crash a Linux or Mac systems, must change calls in\n",
    "# order to crash a Windows computer\n",
    "\n",
    "# Uncomment these lines if you would like to see the segfault\n",
    "#dll = 'dylib' if sys.platform == 'darwin' else 'so.6'\n",
    "#libc = CDLL(\"libc.%s\" % dll)\n",
    "#libc.time(-1)\n",
    "\n",
    "# BOOM"
   ]
  },
  {
   "cell_type": "markdown",
   "metadata": {},
   "source": [
    "## Cell Menu\n",
    "\n",
    "The \"Cell\" menu has a number of menu items for running code in different ways. These includes:\n",
    "\n",
    "* Run and Select Below\n",
    "* Run and Insert Below\n",
    "* Run All\n",
    "* Run All Above\n",
    "* Run All Below"
   ]
  },
  {
   "cell_type": "markdown",
   "metadata": {},
   "source": [
    "## Restarting the Kernels\n",
    "\n",
    "The kernel maintains the state of a notebook's computations. You can reset this state by restarting the kernel. This is done by clicking on \n",
    "the <button class='btn btn-default btn-xs'><i class='fa fa-repeat icon-repeat'></i></button> in the toolbar above."
   ]
  },
  {
   "cell_type": "markdown",
   "metadata": {},
   "source": [
    "### Output is asynchronous\n",
    "\n",
    "All output is displayed asynchronously as it is generated in the kernel. If you execute the next cell, you will see the output one piece at a time, not all at the end."
   ]
  },
  {
   "cell_type": "code",
   "execution_count": 1,
   "metadata": {},
   "outputs": [
    {
     "name": "stdout",
     "output_type": "stream",
     "text": [
      "0\n",
      "1\n",
      "2\n",
      "3\n",
      "4\n",
      "5\n",
      "6\n",
      "7\n"
     ]
    }
   ],
   "source": [
    "import time, sys\n",
    "for i in range(8):\n",
    "    print(i)\n",
    "    time.sleep(0.5)"
   ]
  },
  {
   "cell_type": "markdown",
   "metadata": {},
   "source": [
    "### Why Jupyter Notebooks Suck\n",
    "1. <b>Difficult To Enable Good Code Versioning</b>: Jupyter notebooks are stored as big JSON files merging two notebooks is virtually impossible.\n",
    "2. <b>No IDE integration, no linting, no code-style correction</b>: You can write very badly styled code, and there is not stopping you (at least for now)\n",
    "3. <b>Bad For Running Long Asynchronous Tasks</b>"
   ]
  },
  {
   "cell_type": "markdown",
   "metadata": {},
   "source": [
    "### References: \n",
    "* https://nbviewer.jupyter.org/github/jupyter/notebook/blob/master/docs/source/examples/Notebook/Running%20Code.ipynb\n",
    "* https://hub.packtpub.com/10-reasons-data-scientists-love-jupyter-notebooks/\n",
    "* https://towardsdatascience.com/5-reasons-why-jupyter-notebooks-suck-4dc201e27086\n"
   ]
  },
  {
   "cell_type": "code",
   "execution_count": null,
   "metadata": {},
   "outputs": [],
   "source": []
  }
 ],
 "metadata": {
  "kernelspec": {
   "display_name": "Python 3",
   "language": "python",
   "name": "python3"
  },
  "language_info": {
   "codemirror_mode": {
    "name": "ipython",
    "version": 3
   },
   "file_extension": ".py",
   "mimetype": "text/x-python",
   "name": "python",
   "nbconvert_exporter": "python",
   "pygments_lexer": "ipython3",
   "version": "3.8.10"
  }
 },
 "nbformat": 4,
 "nbformat_minor": 2
}
