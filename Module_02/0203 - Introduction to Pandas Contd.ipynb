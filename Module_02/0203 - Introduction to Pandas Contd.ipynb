{
 "cells": [
  {
   "cell_type": "markdown",
   "metadata": {},
   "source": [
    "# Introduction to Pandas Contd"
   ]
  },
  {
   "cell_type": "code",
   "execution_count": 3,
   "metadata": {},
   "outputs": [],
   "source": [
    "import pandas as pd\n",
    "df = pd.read_json('data/ISP_abuse_email_feed.json')"
   ]
  },
  {
   "cell_type": "markdown",
   "metadata": {},
   "source": [
    "We can pass in boolean arugments to query for data which satisfies a description. For instance, let's say we want to look at the entries with the incident reported greater than or equal to 70."
   ]
  },
  {
   "cell_type": "code",
   "execution_count": 6,
   "metadata": {
    "scrolled": true
   },
   "outputs": [
    {
     "data": {
      "text/html": [
       "<div>\n",
       "<style scoped>\n",
       "    .dataframe tbody tr th:only-of-type {\n",
       "        vertical-align: middle;\n",
       "    }\n",
       "\n",
       "    .dataframe tbody tr th {\n",
       "        vertical-align: top;\n",
       "    }\n",
       "\n",
       "    .dataframe thead th {\n",
       "        text-align: right;\n",
       "    }\n",
       "</style>\n",
       "<table border=\"1\" class=\"dataframe\">\n",
       "  <thead>\n",
       "    <tr style=\"text-align: right;\">\n",
       "      <th></th>\n",
       "      <th>entry_type</th>\n",
       "      <th>event_time</th>\n",
       "      <th>attacker_ip</th>\n",
       "      <th>event_emails</th>\n",
       "      <th>event_msg</th>\n",
       "      <th>emails_deliverable</th>\n",
       "      <th>incidents_reported</th>\n",
       "      <th>days_unresolved</th>\n",
       "    </tr>\n",
       "  </thead>\n",
       "  <tbody>\n",
       "    <tr>\n",
       "      <th>19</th>\n",
       "      <td>report</td>\n",
       "      <td>2019-04-15 18:00:39.672996-07</td>\n",
       "      <td>132.148.26.213</td>\n",
       "      <td>[abuse@secureserver.net, abuse@godaddy.com]</td>\n",
       "      <td>DB GUI Exploit Scanner Bot,&lt;br /&gt;Client softwa...</td>\n",
       "      <td>Yes</td>\n",
       "      <td>70</td>\n",
       "      <td>&lt;font color=\"green\"&gt;&lt;3&lt;/font&gt;</td>\n",
       "    </tr>\n",
       "    <tr>\n",
       "      <th>44</th>\n",
       "      <td>report</td>\n",
       "      <td>2019-04-15 16:05:09.641455-07</td>\n",
       "      <td>45.227.253.98</td>\n",
       "      <td>[abuse@lacnic.net]</td>\n",
       "      <td>Abusive network connectivity</td>\n",
       "      <td>Yes</td>\n",
       "      <td>71</td>\n",
       "      <td>&lt;font color=\"green\"&gt;&lt;3&lt;/font&gt;</td>\n",
       "    </tr>\n",
       "    <tr>\n",
       "      <th>49</th>\n",
       "      <td>report</td>\n",
       "      <td>2019-04-15 16:00:34.480716-07</td>\n",
       "      <td>125.27.10.69</td>\n",
       "      <td>[root@tot.co.th, postmaster@tot.co.th, abuse@i...</td>\n",
       "      <td>DB GUI Exploit Scanner Bot,&lt;br /&gt;Client softwa...</td>\n",
       "      <td>Yes</td>\n",
       "      <td>71</td>\n",
       "      <td>&lt;font color=\"red\"&gt;88&lt;/font&gt;</td>\n",
       "    </tr>\n",
       "  </tbody>\n",
       "</table>\n",
       "</div>"
      ],
      "text/plain": [
       "   entry_type                     event_time     attacker_ip  \\\n",
       "19     report  2019-04-15 18:00:39.672996-07  132.148.26.213   \n",
       "44     report  2019-04-15 16:05:09.641455-07   45.227.253.98   \n",
       "49     report  2019-04-15 16:00:34.480716-07    125.27.10.69   \n",
       "\n",
       "                                         event_emails  \\\n",
       "19        [abuse@secureserver.net, abuse@godaddy.com]   \n",
       "44                                 [abuse@lacnic.net]   \n",
       "49  [root@tot.co.th, postmaster@tot.co.th, abuse@i...   \n",
       "\n",
       "                                            event_msg emails_deliverable  \\\n",
       "19  DB GUI Exploit Scanner Bot,<br />Client softwa...                Yes   \n",
       "44                       Abusive network connectivity                Yes   \n",
       "49  DB GUI Exploit Scanner Bot,<br />Client softwa...                Yes   \n",
       "\n",
       "    incidents_reported                days_unresolved  \n",
       "19                  70  <font color=\"green\"><3</font>  \n",
       "44                  71  <font color=\"green\"><3</font>  \n",
       "49                  71    <font color=\"red\">88</font>  "
      ]
     },
     "execution_count": 6,
     "metadata": {},
     "output_type": "execute_result"
    }
   ],
   "source": [
    "df[df.incidents_reported >= 70]"
   ]
  },
  {
   "cell_type": "markdown",
   "metadata": {},
   "source": [
    "DataFrames allow us to run multiple queries on our datasets as well as by either using paranethesis and an & sign, or by passing in two expressions in square brackets."
   ]
  },
  {
   "cell_type": "code",
   "execution_count": 7,
   "metadata": {},
   "outputs": [
    {
     "data": {
      "text/html": [
       "<div>\n",
       "<style scoped>\n",
       "    .dataframe tbody tr th:only-of-type {\n",
       "        vertical-align: middle;\n",
       "    }\n",
       "\n",
       "    .dataframe tbody tr th {\n",
       "        vertical-align: top;\n",
       "    }\n",
       "\n",
       "    .dataframe thead th {\n",
       "        text-align: right;\n",
       "    }\n",
       "</style>\n",
       "<table border=\"1\" class=\"dataframe\">\n",
       "  <thead>\n",
       "    <tr style=\"text-align: right;\">\n",
       "      <th></th>\n",
       "      <th>entry_type</th>\n",
       "      <th>event_time</th>\n",
       "      <th>attacker_ip</th>\n",
       "      <th>event_emails</th>\n",
       "      <th>event_msg</th>\n",
       "      <th>emails_deliverable</th>\n",
       "      <th>incidents_reported</th>\n",
       "      <th>days_unresolved</th>\n",
       "    </tr>\n",
       "  </thead>\n",
       "  <tbody>\n",
       "    <tr>\n",
       "      <th>19</th>\n",
       "      <td>report</td>\n",
       "      <td>2019-04-15 18:00:39.672996-07</td>\n",
       "      <td>132.148.26.213</td>\n",
       "      <td>[abuse@secureserver.net, abuse@godaddy.com]</td>\n",
       "      <td>DB GUI Exploit Scanner Bot,&lt;br /&gt;Client softwa...</td>\n",
       "      <td>Yes</td>\n",
       "      <td>70</td>\n",
       "      <td>&lt;font color=\"green\"&gt;&lt;3&lt;/font&gt;</td>\n",
       "    </tr>\n",
       "  </tbody>\n",
       "</table>\n",
       "</div>"
      ],
      "text/plain": [
       "   entry_type                     event_time     attacker_ip  \\\n",
       "19     report  2019-04-15 18:00:39.672996-07  132.148.26.213   \n",
       "\n",
       "                                   event_emails  \\\n",
       "19  [abuse@secureserver.net, abuse@godaddy.com]   \n",
       "\n",
       "                                            event_msg emails_deliverable  \\\n",
       "19  DB GUI Exploit Scanner Bot,<br />Client softwa...                Yes   \n",
       "\n",
       "    incidents_reported                days_unresolved  \n",
       "19                  70  <font color=\"green\"><3</font>  "
      ]
     },
     "execution_count": 7,
     "metadata": {},
     "output_type": "execute_result"
    }
   ],
   "source": [
    "df[(df.attacker_ip == '132.148.26.213') & (df.incidents_reported > 50)]\n",
    "\n",
    "# equivalently\n",
    "\n",
    "#df[df.attacker_ip == '132.148.26.213'][df.incidents_reported > 50]"
   ]
  },
  {
   "cell_type": "markdown",
   "metadata": {},
   "source": [
    "And we can further specify which additional column names we wish to view by passing a list of column names."
   ]
  },
  {
   "cell_type": "code",
   "execution_count": 4,
   "metadata": {},
   "outputs": [
    {
     "data": {
      "text/html": [
       "<div>\n",
       "<style scoped>\n",
       "    .dataframe tbody tr th:only-of-type {\n",
       "        vertical-align: middle;\n",
       "    }\n",
       "\n",
       "    .dataframe tbody tr th {\n",
       "        vertical-align: top;\n",
       "    }\n",
       "\n",
       "    .dataframe thead th {\n",
       "        text-align: right;\n",
       "    }\n",
       "</style>\n",
       "<table border=\"1\" class=\"dataframe\">\n",
       "  <thead>\n",
       "    <tr style=\"text-align: right;\">\n",
       "      <th></th>\n",
       "      <th>event_emails</th>\n",
       "      <th>event_msg</th>\n",
       "    </tr>\n",
       "  </thead>\n",
       "  <tbody>\n",
       "    <tr>\n",
       "      <th>19</th>\n",
       "      <td>[abuse@secureserver.net, abuse@godaddy.com]</td>\n",
       "      <td>DB GUI Exploit Scanner Bot,&lt;br /&gt;Client softwa...</td>\n",
       "    </tr>\n",
       "  </tbody>\n",
       "</table>\n",
       "</div>"
      ],
      "text/plain": [
       "                                   event_emails  \\\n",
       "19  [abuse@secureserver.net, abuse@godaddy.com]   \n",
       "\n",
       "                                            event_msg  \n",
       "19  DB GUI Exploit Scanner Bot,<br />Client softwa...  "
      ]
     },
     "execution_count": 4,
     "metadata": {},
     "output_type": "execute_result"
    }
   ],
   "source": [
    "df[(df.attacker_ip == '132.148.26.213') & (df.incidents_reported > 50)][['event_emails', 'event_msg']]"
   ]
  },
  {
   "cell_type": "markdown",
   "metadata": {},
   "source": [
    "## Exercise 2\n",
    "\n",
    "Using your previous dataset (nvdcve.json) answer the questions below:\n",
    "* Identify all the entries recorded at timestamp '2019-04-16T00:00Z'\n",
    "* Identify all entries recorded at timestamp '2019-04-16T00:00Z' with CVE data type CVE\n",
    "* Identify all entries recorded at timstamp '2019-04-16T00:00Z' with CVE data type CVE is 540\n",
    "* Keep all the same information from the previous incident and only show the column CVE data format"
   ]
  },
  {
   "cell_type": "markdown",
   "metadata": {},
   "source": [
    "Reference: \n",
    "* https://towardsdatascience.com/a-quick-introduction-to-the-pandas-python-library-f1b678f34673\n",
    "* https://www.secrepo.com/\n",
    "* https://github.com/ADSA-UIUC/intro-to-pandas-and-matplotlib/blob/master/intro-to-pandas-and-matplotlib-completed.ipynb\n",
    "* https://nvd.nist.gov/vuln/data-feeds"
   ]
  },
  {
   "cell_type": "code",
   "execution_count": null,
   "metadata": {},
   "outputs": [],
   "source": []
  }
 ],
 "metadata": {
  "kernelspec": {
   "display_name": "Python 3",
   "language": "python",
   "name": "python3"
  },
  "language_info": {
   "codemirror_mode": {
    "name": "ipython",
    "version": 3
   },
   "file_extension": ".py",
   "mimetype": "text/x-python",
   "name": "python",
   "nbconvert_exporter": "python",
   "pygments_lexer": "ipython3",
   "version": "3.8.10"
  }
 },
 "nbformat": 4,
 "nbformat_minor": 2
}
