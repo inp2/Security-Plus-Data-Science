{
 "cells": [
  {
   "cell_type": "markdown",
   "metadata": {},
   "source": [
    "# Introduction to Pandas Contd"
   ]
  },
  {
   "cell_type": "code",
   "execution_count": 1,
   "metadata": {},
   "outputs": [],
   "source": [
    "import pandas as pd\n",
    "df = pd.read_csv('data/ransomwaretracker.abuse.ch.txt')"
   ]
  },
  {
   "cell_type": "markdown",
   "metadata": {},
   "source": [
    "### The Dataset Description\n",
    "\n",
    "Ransomware Tracker offers feeds for Hosting-and Internet Service Providers, as well as for national CERTs/CSIRTs, Law Enforcement Agencies and other interested parties. The available feeds are described below. Unlike the blocklists provided by Ransomware Tracker, all feeds referenced below are generaed in real time whenever you hit it."
   ]
  },
  {
   "cell_type": "code",
   "execution_count": 2,
   "metadata": {},
   "outputs": [
    {
     "name": "stdout",
     "output_type": "stream",
     "text": [
      "<class 'pandas.core.frame.DataFrame'>\n",
      "RangeIndex: 13866 entries, 0 to 13865\n",
      "Data columns (total 10 columns):\n",
      " #   Column           Non-Null Count  Dtype \n",
      "---  ------           --------------  ----- \n",
      " 0   Firstseen (UTC)  13866 non-null  object\n",
      " 1   Threat           13865 non-null  object\n",
      " 2   Malware          13865 non-null  object\n",
      " 3   Host             13865 non-null  object\n",
      " 4   URL              13865 non-null  object\n",
      " 5   Status           13865 non-null  object\n",
      " 6   Registrar        12076 non-null  object\n",
      " 7   IP address(es)   8626 non-null   object\n",
      " 8   ASN(s)           8626 non-null   object\n",
      " 9   Country          8494 non-null   object\n",
      "dtypes: object(10)\n",
      "memory usage: 1.1+ MB\n"
     ]
    }
   ],
   "source": [
    "df.info()"
   ]
  },
  {
   "cell_type": "markdown",
   "metadata": {},
   "source": [
    "`info()` prints information about the DataFrame including the types."
   ]
  },
  {
   "cell_type": "markdown",
   "metadata": {},
   "source": [
    "## Data Visualization\n",
    "\n",
    "A fundamental part of the data scientist's toolkit is data visualization. It is easy to create visualizuation, it is hard to produce good ones. We will explore the other useful data science libraries by visualizing data.\n",
    "\n",
    "Pandas also provides methods of visualizations, we shall demonstrate both below."
   ]
  },
  {
   "cell_type": "code",
   "execution_count": 3,
   "metadata": {},
   "outputs": [],
   "source": [
    "# In order to show visualization inside the \n",
    "# notebook these calls must be made\n",
    "%matplotlib inline\n",
    "\n",
    "import matplotlib.pyplot as plt "
   ]
  },
  {
   "cell_type": "markdown",
   "metadata": {},
   "source": [
    "## Histogram \n",
    "\n",
    "A histogram is a display of data using bars of different heights. It is similar to a bar chart, but a histogram groups numbers into ranges. We rely on the function `value_counts()` to return a series containing counts of unique values."
   ]
  },
  {
   "cell_type": "code",
   "execution_count": 4,
   "metadata": {},
   "outputs": [
    {
     "data": {
      "text/plain": [
       "Distribution Site    11297\n",
       "Payment Site          1660\n",
       "C2                     908\n",
       "Name: Threat, dtype: int64"
      ]
     },
     "execution_count": 4,
     "metadata": {},
     "output_type": "execute_result"
    }
   ],
   "source": [
    "df['Threat'].value_counts()"
   ]
  },
  {
   "cell_type": "markdown",
   "metadata": {},
   "source": [
    "This information is passed to the histogram function `hist()` and presented below."
   ]
  },
  {
   "cell_type": "code",
   "execution_count": 5,
   "metadata": {},
   "outputs": [
    {
     "data": {
      "text/plain": [
       "<AxesSubplot:>"
      ]
     },
     "execution_count": 5,
     "metadata": {},
     "output_type": "execute_result"
    },
    {
     "data": {
      "image/png": "[encoded data removed]",
      "text/plain": [
       "<Figure size 432x288 with 1 Axes>"
      ]
     },
     "metadata": {
      "needs_background": "light"
     },
     "output_type": "display_data"
    }
   ],
   "source": [
    "df['Threat'].value_counts().hist()"
   ]
  },
  {
   "cell_type": "code",
   "execution_count": 6,
   "metadata": {},
   "outputs": [
    {
     "data": {
      "text/plain": [
       "Locky            11340\n",
       "Cerber            1572\n",
       "TeslaCrypt         477\n",
       "CryptoWall         211\n",
       "TorrentLocker      120\n",
       "GlobeImposter       99\n",
       "PayCrypt            21\n",
       "Sage                 9\n",
       "CTB-Locker           6\n",
       "PadCrypt             4\n",
       "DMALocker            3\n",
       "FAKBEN               3\n",
       "Name: Malware, dtype: int64"
      ]
     },
     "execution_count": 6,
     "metadata": {},
     "output_type": "execute_result"
    }
   ],
   "source": [
    "df['Malware'].value_counts()"
   ]
  },
  {
   "cell_type": "code",
   "execution_count": 7,
   "metadata": {},
   "outputs": [
    {
     "data": {
      "text/plain": [
       "<AxesSubplot:>"
      ]
     },
     "execution_count": 7,
     "metadata": {},
     "output_type": "execute_result"
    },
    {
     "data": {
      "image/png": "[encoded data removed]",
      "text/plain": [
       "<Figure size 432x288 with 1 Axes>"
      ]
     },
     "metadata": {
      "needs_background": "light"
     },
     "output_type": "display_data"
    }
   ],
   "source": [
    "df['Malware'].value_counts().hist()"
   ]
  },
  {
   "cell_type": "code",
   "execution_count": 8,
   "metadata": {},
   "outputs": [
    {
     "data": {
      "text/plain": [
       "<AxesSubplot:>"
      ]
     },
     "execution_count": 8,
     "metadata": {},
     "output_type": "execute_result"
    },
    {
     "data": {
      "image/png": "[encoded data removed]",
      "text/plain": [
       "<Figure size 432x288 with 1 Axes>"
      ]
     },
     "metadata": {
      "needs_background": "light"
     },
     "output_type": "display_data"
    }
   ],
   "source": [
    "# Pandas\n",
    "df['Threat'].value_counts().plot(kind='bar')"
   ]
  },
  {
   "cell_type": "markdown",
   "metadata": {},
   "source": [
    "## Bar Charts\n",
    "\n",
    "A bar chart can be very helpful, simple visualization when you need to illustrate quantities of a discrete set of items. The following is an example of how we can create a simple bar graph to visualize the number of hosts held by different countries."
   ]
  },
  {
   "cell_type": "markdown",
   "metadata": {},
   "source": [
    "`nlargest()` return the first `n` rows with the largest values in columns in descending order."
   ]
  },
  {
   "cell_type": "code",
   "execution_count": 7,
   "metadata": {},
   "outputs": [
    {
     "data": {
      "text/plain": [
       "<AxesSubplot:>"
      ]
     },
     "execution_count": 7,
     "metadata": {},
     "output_type": "execute_result"
    },
    {
     "data": {
      "image/png": "[encoded data removed]",
      "text/plain": [
       "<Figure size 432x288 with 1 Axes>"
      ]
     },
     "metadata": {
      "needs_background": "light"
     },
     "output_type": "display_data"
    }
   ],
   "source": [
    "df['Malware'].value_counts().nlargest(5).plot(kind='bar')"
   ]
  },
  {
   "cell_type": "markdown",
   "metadata": {},
   "source": [
    "## Line Charts\n",
    "\n",
    "Line charts can be very useful in illustrating trends, and be very useful for visualizing data. A type of chart which displays information as a series of data points called markers connected by straight line segments. It is a basic type of chart common in many fields. It is similar to a scatter plot except that the measurement points are ordered (typically by their x-axis value) and joined with straight line segments. A line chart is often used to visualize a trend in data over intervals of time – a time series – thus the line is often drawn chronologically. In these cases they are known as run charts."
   ]
  },
  {
   "cell_type": "code",
   "execution_count": 8,
   "metadata": {},
   "outputs": [
    {
     "data": {
      "text/plain": [
       "0    2018-08-12 00:46:13\n",
       "1    2018-08-10 05:43:15\n",
       "2    2018-08-10 05:43:15\n",
       "3    2018-08-09 16:50:50\n",
       "4    2018-08-09 07:16:22\n",
       "Name: Firstseen (UTC), dtype: object"
      ]
     },
     "execution_count": 8,
     "metadata": {},
     "output_type": "execute_result"
    }
   ],
   "source": [
    "df['Firstseen (UTC)'].head()"
   ]
  },
  {
   "cell_type": "markdown",
   "metadata": {},
   "source": [
    "In order to build a time-series line chart, we must first convert the column `df['Firstseen (UTC)]` into a datetime object."
   ]
  },
  {
   "cell_type": "code",
   "execution_count": 9,
   "metadata": {},
   "outputs": [],
   "source": [
    "df['Firstseen (UTC)'].head()\n",
    "\n",
    "df['datetime'] =  pd.to_datetime(df['Firstseen (UTC)'], errors='coerce')\n"
   ]
  },
  {
   "cell_type": "code",
   "execution_count": 10,
   "metadata": {},
   "outputs": [
    {
     "name": "stdout",
     "output_type": "stream",
     "text": [
      "<class 'pandas.core.frame.DataFrame'>\n",
      "RangeIndex: 13866 entries, 0 to 13865\n",
      "Data columns (total 11 columns):\n",
      " #   Column           Non-Null Count  Dtype         \n",
      "---  ------           --------------  -----         \n",
      " 0   Firstseen (UTC)  13866 non-null  object        \n",
      " 1   Threat           13865 non-null  object        \n",
      " 2   Malware          13865 non-null  object        \n",
      " 3   Host             13865 non-null  object        \n",
      " 4   URL              13865 non-null  object        \n",
      " 5   Status           13865 non-null  object        \n",
      " 6   Registrar        12076 non-null  object        \n",
      " 7   IP address(es)   8626 non-null   object        \n",
      " 8   ASN(s)           8626 non-null   object        \n",
      " 9   Country          8494 non-null   object        \n",
      " 10  datetime         13865 non-null  datetime64[ns]\n",
      "dtypes: datetime64[ns](1), object(10)\n",
      "memory usage: 1.2+ MB\n"
     ]
    }
   ],
   "source": [
    "df.info()"
   ]
  },
  {
   "cell_type": "code",
   "execution_count": 11,
   "metadata": {},
   "outputs": [
    {
     "data": {
      "text/plain": [
       "<AxesSubplot:xlabel='datetime'>"
      ]
     },
     "execution_count": 11,
     "metadata": {},
     "output_type": "execute_result"
    },
    {
     "data": {
      "image/png": "[encoded data removed]",
      "text/plain": [
       "<Figure size 432x288 with 1 Axes>"
      ]
     },
     "metadata": {
      "needs_background": "light"
     },
     "output_type": "display_data"
    }
   ],
   "source": [
    "df1 = df.set_index('datetime')\n",
    "# df1.head()\n",
    "df1['Threat'].resample('1T').count().plot()"
   ]
  },
  {
   "cell_type": "markdown",
   "metadata": {},
   "source": [
    "## Scatterplot\n",
    "\n",
    "A two-dimensional data visualization that uses dots to represnt the values obtained for two different variables - one plotted along the x-axis and the other plotted along the y-axis. Our dataset does not work well for this visualization, but in order to demonstrate it below."
   ]
  },
  {
   "cell_type": "code",
   "execution_count": 12,
   "metadata": {},
   "outputs": [
    {
     "data": {
      "text/plain": [
       "<AxesSubplot:xlabel='length', ylabel='width'>"
      ]
     },
     "execution_count": 12,
     "metadata": {},
     "output_type": "execute_result"
    },
    {
     "data": {
      "image/png": "[encoded data removed]",
      "text/plain": [
       "<Figure size 432x288 with 1 Axes>"
      ]
     },
     "metadata": {
      "needs_background": "light"
     },
     "output_type": "display_data"
    }
   ],
   "source": [
    "df = pd.DataFrame([[5.1, 3.5, 0], [4.9, 3.0, 0], [7.0, 3.2, 1], \n",
    "                  [6.4, 3.2, 1], [5.9, 3.0, 2], [6.0, 4.2, 1]],\n",
    "                 columns=['length', 'width', 'species'])\n",
    "df.plot.scatter(x='length', y='width', c='Blue')"
   ]
  },
  {
   "cell_type": "markdown",
   "metadata": {},
   "source": [
    "## Exercise 3\n",
    "\n",
    "Using your provided dataset (ransomwaretracker.abuse.ch.txt) answer the questions below:\n",
    "* Represent in the appropriate plot the distirbution of frequency in IP addresses\n",
    "* Represent in the appropriate plot the frequency of each unique IP address\n",
    "* Have fun! Choose any visualization you wish, and use the data to create a plot that helps you solve a problem or visualize the data"
   ]
  },
  {
   "cell_type": "markdown",
   "metadata": {},
   "source": [
    "Reference: \n",
    "* https://github.com/ADSA-UIUC/intro-to-pandas-and-matplotlib/blob/master/intro-to-pandas-and-matplotlib-completed.ipynb\n",
    "* https://datadrivensecurity.info/blog/pages/dds-dataset-collection.html\n",
    "* https://ransomwaretracker.abuse.ch/feeds/"
   ]
  },
  {
   "cell_type": "code",
   "execution_count": null,
   "metadata": {},
   "outputs": [],
   "source": []
  },
  {
   "cell_type": "code",
   "execution_count": null,
   "metadata": {},
   "outputs": [],
   "source": []
  }
 ],
 "metadata": {
  "kernelspec": {
   "display_name": "Python 3",
   "language": "python",
   "name": "python3"
  },
  "language_info": {
   "codemirror_mode": {
    "name": "ipython",
    "version": 3
   },
   "file_extension": ".py",
   "mimetype": "text/x-python",
   "name": "python",
   "nbconvert_exporter": "python",
   "pygments_lexer": "ipython3",
   "version": "3.8.10"
  }
 },
 "nbformat": 4,
 "nbformat_minor": 2
}
