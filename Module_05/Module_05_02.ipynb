{
 "cells": [
  {
   "cell_type": "code",
   "execution_count": 2,
   "metadata": {},
   "outputs": [],
   "source": [
    "import pandas as pd\n",
    "import numpy as np\n",
    "from sklearn.model_selection import train_test_split\n",
    "from sklearn.svm import SVC\n",
    "from sklearn.metrics import confusion_matrix\n",
    "import matplotlib.pyplot as plt\n",
    "from mpl_toolkits.mplot3d import Axes3D"
   ]
  },
  {
   "cell_type": "markdown",
   "metadata": {},
   "source": [
    "# The Data Science Process\n",
    "\n",
    "### 1. Ask a Question\n",
    "* What is your goal?\n",
    "* What would you do if you had all data?\n",
    "* What do you want to predict or estimate?\n",
    "* What do you want to understand or gain insight? \n",
    "\n",
    "### 2. Collect Data\n",
    "* What is the source of data?\n",
    "* Are you missing any data?\n",
    "* Which points of data are relevant?\n",
    "* How can you best sample the data?  \n",
    "\n",
    "### 3. Explore Data\n",
    "* What are anomalies in your data?\n",
    "* What are patterns in your data?\n",
    "* What is considered normal for your data?\n",
    "* What plots best represent your data?\n",
    "\n",
    "### 4. Model Data\n",
    "* What features are important to your data?\n",
    "* Why are these feature important to your data?\n",
    "* How can you best model your data?\n",
    "\n",
    "### 5. Communicate & Visualize Results\n",
    "* What did you learn?\n",
    "* Do the results make sense?\n",
    "* Do you need more data?'\n",
    "\n",
    "\n",
    "#### Repeat Steps When Necessary"
   ]
  },
  {
   "cell_type": "markdown",
   "metadata": {},
   "source": [
    "## 4. Model Data\n",
    "\n",
    "There are many ways to model data. We won't go into a deep dive of machine learning but we will provide a simple introduction. \n",
    "\n",
    "Machine learning algorithms help build mathematical models in order to make predictions or deicision without being explicitly programmed to perform the task.\n",
    "\n",
    "Types of machine learning tasks:\n",
    "* supervised learning\n",
    "* unsupervised learning\n",
    "* semi-supervised learning\n",
    "* active learning\n",
    "* deep learning\n",
    "* reinforcement learning\n",
    "\n",
    "The difference between the main two (supervised and unsupervised), is unsupervised learning does not rely on initial label training data to build models, while suprvised learning required this training data. In the case of semi-supervised learning, the training data is missing some training labels.\n",
    "\n",
    "## Exercise 5\n",
    "\n",
    "Take a look at your dataset, should we perform unsupervised or supervised learning?"
   ]
  },
  {
   "cell_type": "markdown",
   "metadata": {},
   "source": [
    "Now, we that we have choose a specific task. We must decide on the type of algorithm we want to use, in machine learning the typical choice are between classification and regression. Classification is the problem of identifying to which of a set of categories a new observation belongs. For example given an email, it will classify it as either spam or non-spam. Regression is a set of statistical processes for estimating the relationships among variables. For example, we could predict the value of a house based on number of bathrooms, number of square footage and etc.\n",
    "\n",
    "## Exercise 6\n",
    "\n",
    "Take another look at the dataset, should we use a classifcation or regression algorithm?\n",
    "\n",
    "We will spend more time on machine learning later, but we will implement a well known algorithm to determine malicious websites."
   ]
  },
  {
   "cell_type": "code",
   "execution_count": 7,
   "metadata": {},
   "outputs": [
    {
     "data": {
      "text/plain": [
       "Index(['Unnamed: 0', 'URL_LENGTH', 'NUMBER_SPECIAL_CHARACTERS',\n",
       "       'WHOIS_STATEPRO', 'TCP_CONVERSATION_EXCHANGE', 'DIST_REMOTE_TCP_PORT',\n",
       "       'REMOTE_IPS', 'APP_BYTES', 'SOURCE_APP_PACKETS', 'REMOTE_APP_PACKETS',\n",
       "       'SOURCE_APP_BYTES', 'REMOTE_APP_BYTES', 'APP_PACKETS', 'Type',\n",
       "       '100_app_pkt'],\n",
       "      dtype='object')"
      ]
     },
     "execution_count": 7,
     "metadata": {},
     "output_type": "execute_result"
    }
   ],
   "source": [
    "df.columns"
   ]
  },
  {
   "cell_type": "code",
   "execution_count": 9,
   "metadata": {},
   "outputs": [
    {
     "name": "stdout",
     "output_type": "stream",
     "text": [
      "0.9047619047619048\n",
      "[[299  14]\n",
      " [ 20  24]]\n"
     ]
    }
   ],
   "source": [
    "df = pd.read_csv('data/updated_dataset.csv')\n",
    "\n",
    "df = df.drop(columns=['URL','CHARSET', 'SERVER', \n",
    "                      'WHOIS_COUNTRY', 'WHOIS_STATEPRO',\n",
    "                     'WHOIS_REGDATE', 'WHOIS_UPDATED_DATE',\n",
    "                     'DNS_QUERY_TIMES', 'URL_LENGTH', 'NUMBER_SPECIAL_CHARACTERS'])\n",
    "\n",
    "X = df.drop('Type', axis=1)\n",
    "y = df.Type\n",
    "\n",
    "X_train, X_test, y_train, y_test = train_test_split(X, y, test_size = 0.20)\n",
    "\n",
    "svm_model_linear = SVC(kernel = 'linear', C = 1).fit(X_train, y_train)\n",
    "svm_predictions = svm_model_linear.predict(X_test)\n",
    "\n",
    "# model accuracy for X_test  \n",
    "accuracy = svm_model_linear.score(X_test, y_test)\n",
    "\n",
    "# creating a confusion matrix\n",
    "cm = confusion_matrix(y_test, svm_predictions)\n",
    "\n",
    "print(accuracy)\n",
    "print(cm)"
   ]
  },
  {
   "cell_type": "markdown",
   "metadata": {},
   "source": [
    "## 5. Communicate & Visualize Results\n",
    "\n",
    "We have successfully model the dataset. Now, we need to visualize and communicate the results."
   ]
  },
  {
   "cell_type": "code",
   "execution_count": 10,
   "metadata": {},
   "outputs": [
    {
     "name": "stderr",
     "output_type": "stream",
     "text": [
      "<ipython-input-10-cea54a0a4e0f>:7: UserWarning: FixedFormatter should only be used together with FixedLocator\n",
      "  ax.set_xticklabels([''] + labels)\n",
      "<ipython-input-10-cea54a0a4e0f>:8: UserWarning: FixedFormatter should only be used together with FixedLocator\n",
      "  ax.set_xticklabels([''] + labels)\n"
     ]
    },
    {
     "data": {
      "image/png": "[encoded data removed]",
      "text/plain": [
       "<Figure size 432x288 with 2 Axes>"
      ]
     },
     "metadata": {
      "needs_background": "light"
     },
     "output_type": "display_data"
    }
   ],
   "source": [
    "fig = plt.figure()\n",
    "labels = ['good', 'bad']\n",
    "ax = fig.add_subplot(111)\n",
    "cax = ax.matshow(cm)\n",
    "plt.title('Confusion matrix of the classifier')\n",
    "fig.colorbar(cax)\n",
    "ax.set_xticklabels([''] + labels)\n",
    "ax.set_xticklabels([''] + labels)\n",
    "plt.xlabel('Predicted')\n",
    "plt.ylabel('True')\n",
    "plt.show()"
   ]
  },
  {
   "cell_type": "markdown",
   "metadata": {},
   "source": [
    "References:\n",
    "1. https://towardsdatascience.com/hitchhikers-guide-to-exploratory-data-analysis-6e8d896d3f7e\n",
    "2. https://towardsdatascience.com/a-gentle-introduction-to-exploratory-data-analysis-f11d843b8184\n",
    "3. https://github.com/ritikabhasker/Intro-to-EDA/blob/master/Intro_to_EDA.ipynb\n",
    "4. https://www.geeksforgeeks.org/python-visualize-missing-values-nan-values-using-missingno-library/\n",
    "5. https://www.kdnuggets.com/2016/03/data-science-process.html"
   ]
  }
 ],
 "metadata": {
  "kernelspec": {
   "display_name": "Python 3",
   "language": "python",
   "name": "python3"
  },
  "language_info": {
   "codemirror_mode": {
    "name": "ipython",
    "version": 3
   },
   "file_extension": ".py",
   "mimetype": "text/x-python",
   "name": "python",
   "nbconvert_exporter": "python",
   "pygments_lexer": "ipython3",
   "version": "3.8.10"
  }
 },
 "nbformat": 4,
 "nbformat_minor": 2
}
